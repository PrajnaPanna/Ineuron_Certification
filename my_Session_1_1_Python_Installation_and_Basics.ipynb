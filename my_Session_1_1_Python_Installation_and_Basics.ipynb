{
  "nbformat": 4,
  "nbformat_minor": 0,
  "metadata": {
    "kernelspec": {
      "display_name": "Python 3",
      "language": "python",
      "name": "python3"
    },
    "language_info": {
      "codemirror_mode": {
        "name": "ipython",
        "version": 3
      },
      "file_extension": ".py",
      "mimetype": "text/x-python",
      "name": "python",
      "nbconvert_exporter": "python",
      "pygments_lexer": "ipython3",
      "version": "3.7.6"
    },
    "colab": {
      "name": "my Session 1.1 - Python-Installation and Basics.ipynb",
      "provenance": [],
      "toc_visible": true
    }
  },
  "cells": [
    {
      "cell_type": "markdown",
      "metadata": {
        "id": "ZZa0aTHyc9ro",
        "colab_type": "text"
      },
      "source": [
        "## Introduction"
      ]
    },
    {
      "cell_type": "markdown",
      "metadata": {
        "id": "43xTqUmGc9rt",
        "colab_type": "text"
      },
      "source": [
        "Python is an interpreted, object-oriented, high-level programming language with dynamic semantics. Its high-level built in data structures, combined with dynamic typing and dynamic binding, make it very attractive for Rapid Application Development, as well as for use as a scripting or glue language to connect existing components together. Python's simple, easy to learn syntax emphasizes readability and therefore reduces the cost of program maintenance. Python supports modules and packages, which encourages program modularity and code reuse. The Python interpreter and the extensive standard library are available in source or binary form without charge for all major platforms, and can be freely distributed."
      ]
    },
    {
      "cell_type": "markdown",
      "metadata": {
        "id": "Coy7eYjbc9rv",
        "colab_type": "text"
      },
      "source": [
        "erwtsdfpkewrijfjiopjgpoisgsf\n",
        "sdfgodgfjdfg\n",
        "fgdflgjdfg\n",
        "gdfkgjhdfkgd\n",
        "kbdfg\n",
        "dgdflkghdfg\n",
        "gdfjhg"
      ]
    },
    {
      "cell_type": "code",
      "metadata": {
        "id": "EV2W4Q2vc9ry",
        "colab_type": "code",
        "colab": {}
      },
      "source": [
        ""
      ],
      "execution_count": 0,
      "outputs": []
    },
    {
      "cell_type": "markdown",
      "metadata": {
        "id": "cFZoTM6Yc9r8",
        "colab_type": "text"
      },
      "source": [
        "Python is a great general-purpose programming language on its own, but with the help of a few popular libraries (numpy, scipy, matplotlib) it becomes a powerful environment for scientific computing."
      ]
    },
    {
      "cell_type": "markdown",
      "metadata": {
        "id": "WTFF1U68c9sA",
        "colab_type": "text"
      },
      "source": [
        "## Python Version\n",
        "### Python 2\n",
        "Published in late 2000, Python 2 signalled a more transparent and inclusive language development process than earlier versions of Python with the implementation of PEP (Python Enhancement Proposal), a technical specification that either provides information to Python community members or describes a new feature of the language.\n",
        "\n",
        "Additionally, Python 2 included many more programmatic features including a cycle-detecting garbage collector to automate memory management, increased Unicode support to standardize characters, and list comprehensions to create a list based on existing lists. As Python 2 continued to develop, more features were added, including unifying Python’s types and classes into one hierarchy in Python version 2.2.\n",
        "\n",
        "\n",
        "### Python 3\n",
        "\n",
        "Python 3 is regarded as the future of Python and is the version of the language that is currently in development. A major overhaul, Python 3 was released in late 2008 to address and amend intrinsic design flaws of previous versions of the language. The focus of Python 3 development was to clean up the codebase and remove redundancy, making it clear that there was only one way to perform a given task.\n",
        "\n",
        "Major modifications to Python 3.0 included changing the print statement into a built-in function, improve the way integers are divided, and providing more Unicode support.\n",
        "\n",
        "At first, Python 3 was slowly adopted due to the language not being backwards compatible with Python 2, requiring people to make a decision as to which version of the language to use. Additionally, many package libraries were only available for Python 2, but as the development team behind Python 3 has reiterated that there is an end of life for Python 2 support, more libraries have been ported to Python 3. The increased adoption of Python 3 can be shown by the number of Python packages that now provide Python 3 support, which at the time of writing includes 339 of the 360 most popular Python packages.\n",
        "\n",
        "### Python 2.7\n",
        "\n",
        "Following the 2008 release of Python 3.0, Python 2.7 was published on July 3, 2010 and planned as the last of the 2.x releases. The intention behind Python 2.7 was to make it easier for Python 2.x users to port features over to Python 3 by providing some measure of compatibility between the two. This compatibility support included enhanced modules for version 2.7 like unittest to support test automation, argparse for parsing command-line options, and more convenient classes in collections.\n",
        "\n",
        "Because of Python 2.7’s unique position as a version in between the earlier iterations of Python 2 and Python 3.0, it has persisted as a very popular choice for programmers due to its compatibility with many robust libraries. When we talk about Python 2 today, we are typically referring to the Python 2.7 release as that is the most frequently used version.\n",
        "\n",
        "Python 2.7, however, is considered to be a legacy language and its continued development, which today mostly consists of bug fixes, will cease completely in 2020.\n",
        "\n",
        "### Key Differences\n",
        "While Python 2.7 and Python 3 share many similar capabilities, they should not be thought of as entirely interchangeable. Though you can write good code and useful programs in either version, it is worth understanding that there will be some considerable differences in code syntax and handling.\n",
        "\n"
      ]
    },
    {
      "cell_type": "markdown",
      "metadata": {
        "collapsed": true,
        "id": "Ij0mkzJzc9sC",
        "colab_type": "text"
      },
      "source": [
        "## Anaconda Python Distribution\n",
        "Anaconda is an open-source package manager, environment manager, and distribution of the Python and R programming languages. It is commonly used for large-scale data processing, scientific computing, and predictive analytics, serving data scientists, developers, business analysts, and those working in DevOps.\n",
        "\n",
        "Anaconda offers a collection of over 720 open-source packages, and is available in both free and paid versions. The Anaconda distribution ships with the conda command-line utility. You can learn more about Anaconda and conda by reading the Anaconda Documentation pages."
      ]
    },
    {
      "cell_type": "markdown",
      "metadata": {
        "id": "aDoBGX1Wc9sE",
        "colab_type": "text"
      },
      "source": [
        "### Why Anaconda?\n",
        "* User level install of the version of python you want\n",
        "* Able to install/update packages completely independent of system libraries or admin privileges\n",
        "* conda tool installs binary packages, rather than requiring compile resources like pip - again, handy if you have limited privileges for installing necessary libraries.\n",
        "* More or less eliminates the headaches of trying to figure out which version/release of package X is compatible with which version/release of package Y, both of which are required for the install of package Z\n",
        "* Comes either in full-meal-deal version, with numpy, scipy, PyQt, spyder IDE, etc. or in minimal / alacarte version (miniconda) where you can install what you want, when you need it\n",
        "* No risk of messing up required system libraries"
      ]
    },
    {
      "cell_type": "markdown",
      "metadata": {
        "id": "hcdP07Ebc9sG",
        "colab_type": "text"
      },
      "source": [
        "## Installing on Windows\n",
        "\n",
        "1. [Download the Anaconda installer](https://www.continuum.io/downloads).\n",
        "\n",
        "2. Optional: Verify data integrity with MD5 or SHA-256. More info on hashes\n",
        "\n",
        "3. Double click the installer to launch.\n",
        "\n",
        "  NOTE: If you encounter any issues during installation, temporarily disable your anti-virus software during install, then re-enable it after the installation concludes. If you have installed for all users, uninstall Anaconda and re-install it for your user only and try again.\n",
        "\n",
        "4. Click Next.\n",
        "\n",
        "5. Read the licensing terms and click I Agree.\n",
        "\n",
        "6. Select an install for “Just Me” unless you’re installing for all users (which requires Windows Administrator privileges).\n",
        "\n",
        "7. Select a destination folder to install Anaconda and click Next.\n",
        "\n",
        "  NOTE: Install Anaconda to a directory path that does not contain spaces or unicode characters.\n",
        "\n",
        "  NOTE: Do not install as Administrator unless admin privileges are required.\n",
        "\n",
        "8. Choose whether to add Anaconda to your PATH environment variable. We recommend not adding Anaconda to the PATH environment variable, since this can interfere with other software. Instead, use Anaconda software by opening Anaconda Navigator or the Anaconda Command Prompt from the Start Menu.\n",
        "\n",
        "9. Choose whether to register Anaconda as your default Python 3.6. Unless you plan on installing and running multiple versions of Anaconda, or multiple versions of Python, you should accept the default and leave this box checked.\n",
        "\n",
        "10. Click Install. You can click Show Details if you want to see all the packages Anaconda is installing.\n",
        "\n",
        "11. Click Next.\n",
        "\n",
        "12. After a successful installation you will see the “Thanks for installing Anaconda” image:\n",
        " <img src=\"Images/anaconda-install-win.png\">\n",
        " \n",
        "13. You can leave the boxes checked “Learn more about Anaconda Cloud” and “Learn more about Anaconda Support” if you wish to read more about this cloud package management service and Anaconda support. Click Finish.\n",
        "\n",
        "14. After your install is complete, verify it by opening Anaconda Navigator, a program that is included with Anaconda. From your Windows Start menu, select the shortcut Anaconda Navigator. If Navigator opens, you have successfully installed Anaconda.\n"
      ]
    },
    {
      "cell_type": "markdown",
      "metadata": {
        "id": "afovq-Nuc9sI",
        "colab_type": "text"
      },
      "source": [
        "## Installing on macOS\n",
        "1. Download the [graphical macOS installer](https://www.continuum.io/downloads#macos) for your version of Python.\n",
        "\n",
        "2. OPTIONAL: Verify data integrity with MD5 or SHA-256. For more information on hashes, see What about cryptographic hash verification?.\n",
        "\n",
        "3. Double-click the .pkg file.\n",
        "\n",
        "4. Answer the prompts on the Introduction, Read Me and License screens.\n",
        "\n",
        "5. On the Destination Select screen, select Install for me only.\n",
        "\n",
        " NOTE: If you get the error message “You cannot install Anaconda in this location,” reselect Install for me only.\n",
        " <img src=\"Images/osxbug2.png\">\n",
        "\n",
        "6. On the Installation Type screen, you may choose to install in another location. The standard install puts Anaconda in your home user directory:\n",
        " <img src=\"Images/customizebutton.png\">\n",
        "\n",
        "7. Click the Install button.\n",
        "\n",
        "8. A successful installation displays the following screen:\n",
        " <img src=\"Images/anaconda-install-osx.png\">\n"
      ]
    },
    {
      "cell_type": "markdown",
      "metadata": {
        "id": "xEWyMUyoc9sK",
        "colab_type": "text"
      },
      "source": [
        "## Installing on Linux\n",
        "\n",
        "1. In your browser, download the Anaconda installer for Linux.\n",
        "\n",
        "2. Optional: Verify data integrity with MD5 or SHA-256. (For more information on hashes, see cryptographic hash validation.)\n",
        "\n",
        "    Run the following:\n",
        "\n",
        "    __md5sum /path/filename__\n",
        "    OR:\n",
        "\n",
        "    __sha256sum /path/filename__\n",
        "3. Verify results against the proper hash page to make sure the hashes match.\n",
        "\n",
        "4. Enter the following to install Anaconda for Python 3.6:\n",
        "\n",
        " __bash ~/Downloads/Anaconda3-4.4.0-Linux-x86_64.sh__\n",
        " OR\n",
        "\n",
        " Enter the following to install Anaconda for Python 2.7:\n",
        "\n",
        " __bash ~/Downloads/Anaconda2-4.4.0-Linux-x86_64.sh__\n",
        " NOTE: You should include the bash command regardless of whether you are using Bash shell.\n",
        "\n",
        " NOTE: Replace actual download path and filename as necessary.\n",
        "\n",
        " NOTE: Install Anaconda as a user unless root privileges are required.\n",
        "\n",
        "5. The installer prompts “In order to continue the installation process, please review the license agreement.” Click Enter to view license terms.\n",
        "\n",
        "6. Scroll to the bottom of the license terms and enter yes to agree to them.\n",
        "\n",
        "7. The installer prompts you to click Enter to accept the default install location, press CTRL-C to cancel the installation, or specify an alternate installation directory. If you accept the default install location, the installer displays __'PREFIX=/home/\"user\"/anaconda\"2 or 3\"' and continues the installation. It may take a few minutes to complete.__\n",
        "\n",
        "   The installer prompts “Do you wish the installer to prepend the Anaconda\"2 or 3\" install location to PATH in your /home/\"user\"/.bashrc ?” We recommend yes.\n",
        "\n",
        " NOTE: If you enter “no”, you will need to manually specify the path to Anaconda when using Anaconda. To manually add the prepended path, edit file .bashrc to add ~/anaconda\"2 or 3\"/bin to your path manually using:\n",
        "\n",
        "8. __export PATH=\"/home/\"user\"/anaconda\"2 or 3\"/bin:$PATH\"__\n",
        " Replace /home/\"user\"/anaconda\"2 or 3\" with the actual path.\n",
        "\n",
        "9. The installer finishes and displays “Thank you for installing Anaconda\"2 or 3\"!”\n",
        "\n",
        "10. Close and open your terminal window for the installation to take effect, or you can enter the command source ~/.bashrc.\n",
        "\n",
        "  Enter conda list. If the installation was successful, the terminal window should display a list of installed Anaconda packages.\n",
        "\n",
        "  NOTE: Power8 users: Navigate to your Anaconda directory and run this command:\n",
        "\n",
        " __conda install libgfortran__"
      ]
    },
    {
      "cell_type": "markdown",
      "metadata": {
        "id": "q7ULA0Pac9sL",
        "colab_type": "text"
      },
      "source": [
        "## What are Jupyter notebook?"
      ]
    },
    {
      "cell_type": "markdown",
      "metadata": {
        "id": "xs8uOUKNc9sN",
        "colab_type": "text"
      },
      "source": [
        "The notebook is a web application that allows you to combine explanatory text, math equations, code, and visualizations all in one easily sharable document.\n",
        "\n",
        "Notebooks have quickly become an essential tool when working with data. You'll find them being used for data cleaning and exploration, visualization, machine learning, and big data analysis. Typically you'd be doing this work in a terminal, either the normal Python shell or with IPython. Your visualizations would be in separate windows, any documentation would be in separate documents, along with various scripts for functions and classes. However, with notebooks, all of these are in one place and easily read together.\n",
        "\n",
        "Notebooks are also rendered automatically on GitHub. It’s a great feature that lets you easily share your work. There is also [http://nbviewer.jupyter.org/](http://nbviewer.jupyter.org/) that renders the notebooks from your GitHub repo or from notebooks stored elsewhere.\n",
        "\n"
      ]
    },
    {
      "cell_type": "markdown",
      "metadata": {
        "id": "r8NJnlMvc9sP",
        "colab_type": "text"
      },
      "source": [
        "## How notebook works?\n"
      ]
    },
    {
      "cell_type": "markdown",
      "metadata": {
        "id": "-r-AMuaRc9sT",
        "colab_type": "text"
      },
      "source": [
        "Jupyter notebooks grew out of the IPython project started by Fernando Perez. IPython is an interactive shell, similar to the normal Python shell but with great features like syntax highlighting and code completion. Originally, notebooks worked by sending messages from the web app (the notebook you see in the browser) to an IPython kernel (an IPython application running in the background). The kernel executed the code, then sent it back to the notebook. The current architecture is similar, drawn out below.\n",
        "<img src=\"Images/notebook-components.png\">\n",
        "\n",
        "\n",
        "The central point is the notebook server. You connect to the server through your browser and the notebook is rendered as a web app. Code you write in the web app is sent through the server to the kernel. The kernel runs the code and sends it back to the server, then any output is rendered back in the browser. When you save the notebook, it is written to the server as a JSON file with a .ipynb file extension.\n",
        "\n",
        "The great part of this architecture is that the kernel doesn't need to run Python. Since the notebook and the kernel are separate, code in any language can be sent between them. For example, two of the earlier non-Python kernels were for the R and Julia languages. With an R kernel, code written in R will be sent to the R kernel where it is executed, exactly the same as Python code running on a Python kernel. IPython notebooks were renamed because notebooks became language agnostic. The new name Jupyter comes from the combination of Julia, Python, and R. If you're interested, here's a list of available kernels.\n",
        "\n",
        "Another benefit is that the server can be run anywhere and accessed via the internet. Typically you'll be running the server on your own machine where all your data and notebook files are stored. But, you could also set up a server on a remote machine or cloud instance like Amazon's EC2. Then, you can access the notebooks in your browser from anywhere in the world.\n",
        "\n"
      ]
    },
    {
      "cell_type": "markdown",
      "metadata": {
        "id": "Qe_D6Z4Ac9sV",
        "colab_type": "text"
      },
      "source": [
        "## Installing Jupyter Notebook"
      ]
    },
    {
      "cell_type": "markdown",
      "metadata": {
        "id": "lKuPHkaqc9sX",
        "colab_type": "text"
      },
      "source": [
        "By far the easiest way to install Jupyter is with Anaconda. Jupyter notebooks automatically come with the distribution. You'll be able to use notebooks from the default environment.\n",
        "\n",
        "To install Jupyter notebooks in a conda environment, use __conda install jupyter notebook__.\n",
        "\n",
        "Jupyter notebooks are also available through pip with __pip install jupyter notebook__."
      ]
    },
    {
      "cell_type": "markdown",
      "metadata": {
        "id": "jfIK6HXsc9sZ",
        "colab_type": "text"
      },
      "source": [
        "## Launching the notebook server\n",
        "\n",
        "To start a notebook server, enter jupyter notebook in your terminal or console. This will start the server in the directory you ran the command in. That means any notebook files will be saved in that directory. Typically you'd want to start the server in the directory where your notebooks live. However, you can navigate through your file system to where the notebooks are.\n",
        "\n",
        "When you run the command (try it yourself!), the server home should open in your browser. By default, the notebook server runs at http://localhost:8888. If you aren't familiar with this, localhost means your computer and 8888 is the port the server is communicating on. As long as the server is still running, you can always come back to it by going to http://localhost:8888 in your browser.\n",
        "\n",
        "If you start another server, it'll try to use port 8888, but since it is occupied, the new server will run on port 8889. Then, you'd connect to it at http://localhost:8889. Every additional notebook server will increment the port number like this.\n",
        "\n",
        "If you tried starting your own server, it should look something like this:\n",
        "<img src=\"Images/notebook-server.png\">"
      ]
    },
    {
      "cell_type": "markdown",
      "metadata": {
        "id": "4rKbR1z4c9sa",
        "colab_type": "text"
      },
      "source": [
        "# -------------------------------------------------------------------------------------------------------------"
      ]
    },
    {
      "cell_type": "code",
      "metadata": {
        "id": "T5TuOBZIc9sc",
        "colab_type": "code",
        "colab": {}
      },
      "source": [
        " Topics:\n",
        "1. Basics of Python\n",
        "2. Fundamental Types:\n",
        "    2.1. Integers\n",
        "    2.2. Floats\n",
        "    2.3. Boolean\n",
        "    2.4. Complex\n",
        "    2.5. Strings\n",
        "3. Variables\n",
        "4. simple Expressions\n",
        "    a. Boolean / Logical expressions\n",
        "5. Branching(if/elif/else)\n",
        "6. Indentation\n",
        "7. Advance Types: Containers \n",
        "    7.1. Lists\n",
        "8. Loops \n",
        "    8.1. For loop\n",
        "    8.2. for loop with else\n",
        "    8.3. While loop\n",
        "9. range function\n",
        "10. Brak and continue"
      ],
      "execution_count": 0,
      "outputs": []
    },
    {
      "cell_type": "markdown",
      "metadata": {
        "id": "g_BdP0WSc9sl",
        "colab_type": "text"
      },
      "source": [
        "## Basics of Python"
      ]
    },
    {
      "cell_type": "markdown",
      "metadata": {
        "id": "TdHDQ64Wc9sn",
        "colab_type": "text"
      },
      "source": [
        "Python is a high-level, dynamically typed multiparadigm programming language. Python code is often said to be almost like pseudocode, since it allows you to express very powerful ideas in very few lines of code while being very readable. As an example, here is an implementation of the classic quicksort algorithm in Python:"
      ]
    },
    {
      "cell_type": "code",
      "metadata": {
        "id": "NgwUDkjdc9sp",
        "colab_type": "code",
        "colab": {}
      },
      "source": [
        ""
      ],
      "execution_count": 0,
      "outputs": []
    },
    {
      "cell_type": "code",
      "metadata": {
        "id": "CDX-JuLGc9sz",
        "colab_type": "code",
        "colab": {}
      },
      "source": [
        ""
      ],
      "execution_count": 0,
      "outputs": []
    },
    {
      "cell_type": "code",
      "metadata": {
        "id": "9ueoJ4h8c9s-",
        "colab_type": "code",
        "colab": {}
      },
      "source": [
        ""
      ],
      "execution_count": 0,
      "outputs": []
    },
    {
      "cell_type": "code",
      "metadata": {
        "id": "rd_dPkIUc9tH",
        "colab_type": "code",
        "colab": {}
      },
      "source": [
        ""
      ],
      "execution_count": 0,
      "outputs": []
    },
    {
      "cell_type": "code",
      "metadata": {
        "id": "3sNdsldxc9tO",
        "colab_type": "code",
        "colab": {}
      },
      "source": [
        ""
      ],
      "execution_count": 0,
      "outputs": []
    },
    {
      "cell_type": "code",
      "metadata": {
        "id": "2f7k765Vc9tW",
        "colab_type": "code",
        "colab": {}
      },
      "source": [
        ""
      ],
      "execution_count": 0,
      "outputs": []
    },
    {
      "cell_type": "code",
      "metadata": {
        "id": "utVSGelLc9te",
        "colab_type": "code",
        "colab": {}
      },
      "source": [
        ""
      ],
      "execution_count": 0,
      "outputs": []
    },
    {
      "cell_type": "code",
      "metadata": {
        "id": "2-YwF-MLc9tp",
        "colab_type": "code",
        "colab": {}
      },
      "source": [
        ""
      ],
      "execution_count": 0,
      "outputs": []
    },
    {
      "cell_type": "code",
      "metadata": {
        "id": "yjZfjpNRc9tx",
        "colab_type": "code",
        "colab": {}
      },
      "source": [
        "##python is s interpreter and compiler lang it acts according to the complexity of the code\n",
        "## interprter lang will see the syntax and get the logic out of it"
      ],
      "execution_count": 0,
      "outputs": []
    },
    {
      "cell_type": "markdown",
      "metadata": {
        "id": "d-ZKjyk1c9t6",
        "colab_type": "text"
      },
      "source": [
        "### Fundamental types"
      ]
    },
    {
      "cell_type": "markdown",
      "metadata": {
        "id": "YqT8BjClc9t7",
        "colab_type": "text"
      },
      "source": [
        "### Integers\n",
        "\n",
        "Integer literals are created by any number without a decimal or complex component."
      ]
    },
    {
      "cell_type": "code",
      "metadata": {
        "scrolled": true,
        "id": "n894Pw4oc9t-",
        "colab_type": "code",
        "outputId": "d638d505-683b-470c-a4cf-c16b28855bbe",
        "colab": {}
      },
      "source": [
        "# integers\n",
        "a = 7\n",
        "a"
      ],
      "execution_count": 0,
      "outputs": [
        {
          "output_type": "execute_result",
          "data": {
            "text/plain": [
              "7"
            ]
          },
          "metadata": {
            "tags": []
          },
          "execution_count": 1
        }
      ]
    },
    {
      "cell_type": "code",
      "metadata": {
        "id": "ODCktyCsc9uI",
        "colab_type": "code",
        "outputId": "d9afc9ef-5434-4023-f5a0-b6d1f891cb1f",
        "colab": {}
      },
      "source": [
        "print(\"Panna\" + str(a))      ## to concatinate the string and the integer, integer has to be coverted to string as shown\n",
        "                             ### we can convert int to string not vice versa"
      ],
      "execution_count": 0,
      "outputs": [
        {
          "output_type": "stream",
          "text": [
            "Panna7\n"
          ],
          "name": "stdout"
        }
      ]
    },
    {
      "cell_type": "code",
      "metadata": {
        "id": "XNIi6tSUc9uS",
        "colab_type": "code",
        "colab": {}
      },
      "source": [
        "## we need not mention the data type while assigning a value for a variable unlike other pgm lang\n",
        "## unless a variable name is overridden or reassigned the value remains the same\n",
        "## but once the variable is defined and the NB is closed you have to re run the NB for it to work again.\n",
        "### use tab for auto complete ."
      ],
      "execution_count": 0,
      "outputs": []
    },
    {
      "cell_type": "markdown",
      "metadata": {
        "id": "WWKP5LBbc9ua",
        "colab_type": "text"
      },
      "source": [
        "### Floats\n",
        "\n",
        "Float literals can be created by adding a decimal component to a number."
      ]
    },
    {
      "cell_type": "code",
      "metadata": {
        "id": "BwITl7MSc9ub",
        "colab_type": "code",
        "outputId": "4ee62edf-a0c3-4408-d1ad-8400ae8b961a",
        "colab": {}
      },
      "source": [
        "# float\n",
        "x = 1.0\n",
        "type(x)"
      ],
      "execution_count": 0,
      "outputs": [
        {
          "output_type": "execute_result",
          "data": {
            "text/plain": [
              "float"
            ]
          },
          "metadata": {
            "tags": []
          },
          "execution_count": 4
        }
      ]
    },
    {
      "cell_type": "code",
      "metadata": {
        "id": "k--103yYc9uk",
        "colab_type": "code",
        "colab": {}
      },
      "source": [
        "### to know the location where that variable is saved in the memory "
      ],
      "execution_count": 0,
      "outputs": []
    },
    {
      "cell_type": "code",
      "metadata": {
        "id": "HbKO0ZPsc9us",
        "colab_type": "code",
        "outputId": "8afe41bd-17a6-4b46-ac2a-1abbb8970b8a",
        "colab": {}
      },
      "source": [
        "id(x)     # it changes every time you run the code again"
      ],
      "execution_count": 0,
      "outputs": [
        {
          "output_type": "execute_result",
          "data": {
            "text/plain": [
              "2377791889104"
            ]
          },
          "metadata": {
            "tags": []
          },
          "execution_count": 5
        }
      ]
    },
    {
      "cell_type": "code",
      "metadata": {
        "id": "XmWtRoOYc9u0",
        "colab_type": "code",
        "colab": {}
      },
      "source": [
        "## type function will give the type of data/ input given to the python pgm"
      ],
      "execution_count": 0,
      "outputs": []
    },
    {
      "cell_type": "markdown",
      "metadata": {
        "id": "7V9bbKMyc9u7",
        "colab_type": "text"
      },
      "source": [
        "### Boolean\n",
        "\n",
        "Boolean can be defined by typing True/False without quotes with first letter caps"
      ]
    },
    {
      "cell_type": "code",
      "metadata": {
        "id": "Vr6w_0Hjc9u8",
        "colab_type": "code",
        "outputId": "47f9c82e-6aa2-47f9-bdb4-ee85dfa41cde",
        "colab": {}
      },
      "source": [
        "# boolean\n",
        "b1 = True\n",
        "b2 = False\n",
        "\n",
        "type(b1)"
      ],
      "execution_count": 0,
      "outputs": [
        {
          "output_type": "execute_result",
          "data": {
            "text/plain": [
              "bool"
            ]
          },
          "metadata": {
            "tags": []
          },
          "execution_count": 4
        }
      ]
    },
    {
      "cell_type": "markdown",
      "metadata": {
        "id": "vMspz5zAc9vE",
        "colab_type": "text"
      },
      "source": [
        "### Strings\n",
        "\n",
        "String literals can be defined with any of single quotes ('), double quotes (\") or triple quotes (''' or \"\"\"). All give the same result with two important differences.\n",
        "\n",
        "If you quote with single quotes, you do not have to escape double quotes and vice-versa.\n",
        "If you quote with triple quotes, your string can span multiple lines."
      ]
    },
    {
      "cell_type": "code",
      "metadata": {
        "id": "4h3s-dhmc9vG",
        "colab_type": "code",
        "outputId": "ea2f4711-1393-4f5a-8dec-1161d46923c3",
        "colab": {}
      },
      "source": [
        "# string\n",
        "name1 = 'my name is'\n",
        "type(name1)"
      ],
      "execution_count": 0,
      "outputs": [
        {
          "output_type": "execute_result",
          "data": {
            "text/plain": [
              "str"
            ]
          },
          "metadata": {
            "tags": []
          },
          "execution_count": 7
        }
      ]
    },
    {
      "cell_type": "code",
      "metadata": {
        "id": "lgoblT-Vc9vU",
        "colab_type": "code",
        "colab": {}
      },
      "source": [
        "name1=\" This is Prajna's bag\"\n",
        "Name2='Prajna is a Girl'\n",
        "name3='''Prajna is a girl \n",
        "         she loves her\n",
        "         amma appa ajja ajji'''\n"
      ],
      "execution_count": 0,
      "outputs": []
    },
    {
      "cell_type": "code",
      "metadata": {
        "id": "ZpBLeTBSc9vc",
        "colab_type": "code",
        "outputId": "92648db0-7ec9-4af8-8d56-86a92892e25c",
        "colab": {}
      },
      "source": [
        "name4='panna says \"HEY\"'         # u have to use print stm to get the output in case of strings\n",
        "print(name4)"
      ],
      "execution_count": 0,
      "outputs": [
        {
          "output_type": "stream",
          "text": [
            "panna says \"HEY\"\n"
          ],
          "name": "stdout"
        }
      ]
    },
    {
      "cell_type": "code",
      "metadata": {
        "id": "LjaC3t5-c9vk",
        "colab_type": "code",
        "colab": {}
      },
      "source": [
        "### add means concatination, It is normally for thr same data types\n"
      ],
      "execution_count": 0,
      "outputs": []
    },
    {
      "cell_type": "code",
      "metadata": {
        "id": "iCk6W1f4c9vs",
        "colab_type": "code",
        "outputId": "ef9125e3-18c6-4c8b-fcff-de119c754c04",
        "colab": {}
      },
      "source": [
        "str(12)+\"panna\""
      ],
      "execution_count": 0,
      "outputs": [
        {
          "output_type": "execute_result",
          "data": {
            "text/plain": [
              "'12panna'"
            ]
          },
          "metadata": {
            "tags": []
          },
          "execution_count": 5
        }
      ]
    },
    {
      "cell_type": "code",
      "metadata": {
        "id": "YoqDks_Vc9v0",
        "colab_type": "code",
        "outputId": "25dea2bb-7ef9-4bd4-cb7f-d7fe367e22b1",
        "colab": {}
      },
      "source": [
        "\"panna\"*2"
      ],
      "execution_count": 0,
      "outputs": [
        {
          "output_type": "execute_result",
          "data": {
            "text/plain": [
              "'pannapanna'"
            ]
          },
          "metadata": {
            "tags": []
          },
          "execution_count": 7
        }
      ]
    },
    {
      "cell_type": "markdown",
      "metadata": {
        "id": "W-Yr-lkZc9v9",
        "colab_type": "text"
      },
      "source": [
        "### Complex\n",
        "\n",
        "Complex literals can be created by using the notation x + yj where x is the real component and y is the imaginary component."
      ]
    },
    {
      "cell_type": "code",
      "metadata": {
        "id": "cN1nt9brc9v-",
        "colab_type": "code",
        "outputId": "4e01f522-792f-44cd-b37c-d365d2eb79a6",
        "colab": {}
      },
      "source": [
        "#complex numbers: note the use of `j` to specify the imaginary part\n",
        "# complex numbers\n",
        "j= 1.0-2.0j\n",
        "j"
      ],
      "execution_count": 0,
      "outputs": [
        {
          "output_type": "execute_result",
          "data": {
            "text/plain": [
              "(1-2j)"
            ]
          },
          "metadata": {
            "tags": []
          },
          "execution_count": 14
        }
      ]
    },
    {
      "cell_type": "code",
      "metadata": {
        "scrolled": true,
        "id": "ysoihh0pc9wG",
        "colab_type": "code",
        "outputId": "63c86f4a-2191-4374-9989-8d325602ead0",
        "colab": {}
      },
      "source": [
        "x=j\n",
        "x"
      ],
      "execution_count": 0,
      "outputs": [
        {
          "output_type": "execute_result",
          "data": {
            "text/plain": [
              "(1-2j)"
            ]
          },
          "metadata": {
            "tags": []
          },
          "execution_count": 16
        }
      ]
    },
    {
      "cell_type": "code",
      "metadata": {
        "scrolled": true,
        "id": "N95BcXPAc9wQ",
        "colab_type": "code",
        "outputId": "79d56e24-0426-4ba6-b87a-b98189467771",
        "colab": {}
      },
      "source": [
        "print(x.real, x.imag)           ## method used To get the imaginery part and real part of the complex number seperately"
      ],
      "execution_count": 0,
      "outputs": [
        {
          "output_type": "stream",
          "text": [
            "1.0 -2.0\n"
          ],
          "name": "stdout"
        }
      ]
    },
    {
      "cell_type": "code",
      "metadata": {
        "id": "nTE_IO2bf-9-",
        "colab_type": "code",
        "outputId": "ad181560-7125-42cc-c9f9-517aecd681a3",
        "colab": {
          "base_uri": "https://localhost:8080/",
          "height": 34
        }
      },
      "source": [
        "i=3+8j                         # q asked in the class\n",
        "j=type(i)\n",
        "j"
      ],
      "execution_count": 0,
      "outputs": [
        {
          "output_type": "execute_result",
          "data": {
            "text/plain": [
              "complex"
            ]
          },
          "metadata": {
            "tags": []
          },
          "execution_count": 5
        }
      ]
    },
    {
      "cell_type": "code",
      "metadata": {
        "id": "N8djy5tjgQsr",
        "colab_type": "code",
        "outputId": "dd5c84ef-bfcd-4ecf-e4af-4b4dd76c575d",
        "colab": {
          "base_uri": "https://localhost:8080/",
          "height": 34
        }
      },
      "source": [
        "type(j)"
      ],
      "execution_count": 0,
      "outputs": [
        {
          "output_type": "execute_result",
          "data": {
            "text/plain": [
              "type"
            ]
          },
          "metadata": {
            "tags": []
          },
          "execution_count": 6
        }
      ]
    },
    {
      "cell_type": "code",
      "metadata": {
        "id": "ijYzAVTpggu4",
        "colab_type": "code",
        "outputId": "7b59c12d-c30f-48a6-88d9-6adee6a5c0d1",
        "colab": {
          "base_uri": "https://localhost:8080/",
          "height": 34
        }
      },
      "source": [
        "type(i)"
      ],
      "execution_count": 0,
      "outputs": [
        {
          "output_type": "execute_result",
          "data": {
            "text/plain": [
              "complex"
            ]
          },
          "metadata": {
            "tags": []
          },
          "execution_count": 7
        }
      ]
    },
    {
      "cell_type": "markdown",
      "metadata": {
        "id": "VVYqczluc9wX",
        "colab_type": "text"
      },
      "source": [
        "### Variables\n",
        "\n",
        "#### Definining\n",
        "\n",
        "A variable in Python is defined through assignment. There is no concept of declaring a variable outside of that assignment.a value is assigned to a variable using equal sign (assignment symbol) "
      ]
    },
    {
      "cell_type": "code",
      "metadata": {
        "id": "XISUQ_itc9wZ",
        "colab_type": "code",
        "outputId": "8a9b6e9f-b4a4-4c40-8670-f52846d82064",
        "colab": {}
      },
      "source": [
        "tenth = 10\n",
        "tenth"
      ],
      "execution_count": 0,
      "outputs": [
        {
          "output_type": "execute_result",
          "data": {
            "text/plain": [
              "10"
            ]
          },
          "metadata": {
            "tags": []
          },
          "execution_count": 17
        }
      ]
    },
    {
      "cell_type": "code",
      "metadata": {
        "id": "oHfDBBjUc9wg",
        "colab_type": "code",
        "outputId": "754d4c02-7f5d-4744-bbb4-74e83e5eac13",
        "colab": {}
      },
      "source": [
        "sum,i=0,1\n",
        "sum"
      ],
      "execution_count": 0,
      "outputs": [
        {
          "output_type": "execute_result",
          "data": {
            "text/plain": [
              "0"
            ]
          },
          "metadata": {
            "tags": []
          },
          "execution_count": 71
        }
      ]
    },
    {
      "cell_type": "code",
      "metadata": {
        "scrolled": true,
        "id": "axGW1zgjc9wq",
        "colab_type": "code",
        "outputId": "9ba65e6c-65f5-47f2-c3ca-76ee25d32839",
        "colab": {}
      },
      "source": [
        "i"
      ],
      "execution_count": 0,
      "outputs": [
        {
          "output_type": "execute_result",
          "data": {
            "text/plain": [
              "1"
            ]
          },
          "metadata": {
            "tags": []
          },
          "execution_count": 72
        }
      ]
    },
    {
      "cell_type": "markdown",
      "metadata": {
        "id": "6oY91a7tc9w3",
        "colab_type": "text"
      },
      "source": [
        "#### Dynamic Typing\n",
        "\n",
        "In Python, while the value that a variable points to has a type, the variable itself has no strict type in its definition. You can re-use the same variable to point to an object of a different type. It may be helpful to think of variables as \"labels\" associated with objects."
      ]
    },
    {
      "cell_type": "code",
      "metadata": {
        "id": "rZs-GTZJc9w4",
        "colab_type": "code",
        "colab": {}
      },
      "source": [
        "### variables can be re-assigned to a different value of different data type , there is no specific data type to variables. \n",
        "## only values are having data types"
      ],
      "execution_count": 0,
      "outputs": []
    },
    {
      "cell_type": "code",
      "metadata": {
        "id": "Eg94HBKtc9xE",
        "colab_type": "code",
        "outputId": "bae29dc2-683d-4141-a81e-8d1b86c021f3",
        "colab": {}
      },
      "source": [
        "ten = 10\n",
        "ten"
      ],
      "execution_count": 0,
      "outputs": [
        {
          "output_type": "execute_result",
          "data": {
            "text/plain": [
              "10"
            ]
          },
          "metadata": {
            "tags": []
          },
          "execution_count": 20
        }
      ]
    },
    {
      "cell_type": "code",
      "metadata": {
        "id": "5VipU8g1c9xL",
        "colab_type": "code",
        "outputId": "7c229edf-8a12-4143-e6cf-550ca33fb096",
        "colab": {}
      },
      "source": [
        "type(ten)"
      ],
      "execution_count": 0,
      "outputs": [
        {
          "output_type": "execute_result",
          "data": {
            "text/plain": [
              "int"
            ]
          },
          "metadata": {
            "tags": []
          },
          "execution_count": 21
        }
      ]
    },
    {
      "cell_type": "code",
      "metadata": {
        "id": "jrAOt_XUc9xU",
        "colab_type": "code",
        "outputId": "73d441f8-7b06-41c5-a442-244049315f17",
        "colab": {}
      },
      "source": [
        "ten = 'ten'\n",
        "type(ten)"
      ],
      "execution_count": 0,
      "outputs": [
        {
          "output_type": "execute_result",
          "data": {
            "text/plain": [
              "str"
            ]
          },
          "metadata": {
            "tags": []
          },
          "execution_count": 22
        }
      ]
    },
    {
      "cell_type": "markdown",
      "metadata": {
        "id": "opRof99dc9xf",
        "colab_type": "text"
      },
      "source": [
        "#### Strong Typing\n",
        "\n",
        "While Python allows you to be very flexible with your types, you must still be aware of what those types are. Certain operations will require certain types as arguments."
      ]
    },
    {
      "cell_type": "code",
      "metadata": {
        "id": "lk0lQgqhc9xh",
        "colab_type": "code",
        "outputId": "5f81e8fe-e2a0-496c-dce6-3f3682cc6951",
        "colab": {}
      },
      "source": [
        "'Day ' +str(1)"
      ],
      "execution_count": 0,
      "outputs": [
        {
          "output_type": "execute_result",
          "data": {
            "text/plain": [
              "'Day 1'"
            ]
          },
          "metadata": {
            "tags": []
          },
          "execution_count": 24
        }
      ]
    },
    {
      "cell_type": "markdown",
      "metadata": {
        "id": "81U639Ccc9xo",
        "colab_type": "text"
      },
      "source": [
        "This behavior is different from some other loosely-typed languages. If you were to do the same thing in JavaScript, you would get a different result.\n",
        "\n",
        "In Python, however, it is possible to change the type of an object through builtin functions."
      ]
    },
    {
      "cell_type": "code",
      "metadata": {
        "id": "j1VQn3aBgNcs",
        "colab_type": "code",
        "colab": {}
      },
      "source": [
        ""
      ],
      "execution_count": 0,
      "outputs": []
    },
    {
      "cell_type": "markdown",
      "metadata": {
        "id": "_MqCzRqJc9xr",
        "colab_type": "text"
      },
      "source": [
        "# 'Day ' + str(1)\n",
        "\n",
        "\n",
        "and \n",
        "0 0 0\n",
        "0 1 0\n",
        "1 0 0\n",
        "1 1 1 "
      ]
    },
    {
      "cell_type": "markdown",
      "metadata": {
        "id": "BCkQmuyFc9xs",
        "colab_type": "text"
      },
      "source": [
        "## Simple Expressions\n",
        "\n",
        "### Boolean Evaluation/ Logical operators\n",
        "\n",
        "Boolean expressions are created with the keywords and, or, not and is. For example:"
      ]
    },
    {
      "cell_type": "code",
      "metadata": {
        "id": "fL8VeQfmc9xx",
        "colab_type": "code",
        "outputId": "ef6e3e3f-915a-4097-98a7-d635b865fa8d",
        "colab": {}
      },
      "source": [
        "True and False     # and is T if both are True"
      ],
      "execution_count": 0,
      "outputs": [
        {
          "output_type": "execute_result",
          "data": {
            "text/plain": [
              "False"
            ]
          },
          "metadata": {
            "tags": []
          },
          "execution_count": 23
        }
      ]
    },
    {
      "cell_type": "code",
      "metadata": {
        "id": "clOWWH94c9x8",
        "colab_type": "code",
        "outputId": "e3a351a0-9dbb-43e3-a86d-6645fc87de92",
        "colab": {}
      },
      "source": [
        "True and False          # Use ony small letters in the kewords and , or, not"
      ],
      "execution_count": 0,
      "outputs": [
        {
          "output_type": "execute_result",
          "data": {
            "text/plain": [
              "1"
            ]
          },
          "metadata": {
            "tags": []
          },
          "execution_count": 24
        }
      ]
    },
    {
      "cell_type": "code",
      "metadata": {
        "id": "zE48kK-0c9yF",
        "colab_type": "code",
        "outputId": "375dec9c-278c-457d-d1b6-3a6385262997",
        "colab": {}
      },
      "source": [
        "True or False         # Or is True if any One is True"
      ],
      "execution_count": 0,
      "outputs": [
        {
          "output_type": "execute_result",
          "data": {
            "text/plain": [
              "True"
            ]
          },
          "metadata": {
            "tags": []
          },
          "execution_count": 26
        }
      ]
    },
    {
      "cell_type": "code",
      "metadata": {
        "id": "DkJaLkQjc9yO",
        "colab_type": "code",
        "outputId": "dc543110-6a97-4bfb-a828-258aacfc9271",
        "colab": {}
      },
      "source": [
        "not True              # not gives the oposite of the expression"
      ],
      "execution_count": 0,
      "outputs": [
        {
          "output_type": "execute_result",
          "data": {
            "text/plain": [
              "False"
            ]
          },
          "metadata": {
            "tags": []
          },
          "execution_count": 27
        }
      ]
    },
    {
      "cell_type": "code",
      "metadata": {
        "id": "mqVbOXaec9yW",
        "colab_type": "code",
        "outputId": "5d7c5a65-2409-44c9-ae8a-7c0acd89c420",
        "colab": {}
      },
      "source": [
        "not False"
      ],
      "execution_count": 0,
      "outputs": [
        {
          "output_type": "execute_result",
          "data": {
            "text/plain": [
              "True"
            ]
          },
          "metadata": {
            "tags": []
          },
          "execution_count": 28
        }
      ]
    },
    {
      "cell_type": "code",
      "metadata": {
        "scrolled": true,
        "id": "QIXSnSCHc9ye",
        "colab_type": "code",
        "outputId": "02a25d65-bd2a-4887-9d3e-84fcf98daeaf",
        "colab": {}
      },
      "source": [
        "True+ True"
      ],
      "execution_count": 0,
      "outputs": [
        {
          "output_type": "execute_result",
          "data": {
            "text/plain": [
              "2"
            ]
          },
          "metadata": {
            "tags": []
          },
          "execution_count": 3
        }
      ]
    },
    {
      "cell_type": "code",
      "metadata": {
        "id": "AcDlv-Mzc9yl",
        "colab_type": "code",
        "outputId": "f244c839-c7c4-4b91-d0cb-faa62975636d",
        "colab": {}
      },
      "source": [
        "False +False"
      ],
      "execution_count": 0,
      "outputs": [
        {
          "output_type": "execute_result",
          "data": {
            "text/plain": [
              "0"
            ]
          },
          "metadata": {
            "tags": []
          },
          "execution_count": 4
        }
      ]
    },
    {
      "cell_type": "code",
      "metadata": {
        "id": "1TPVYSwYc9yt",
        "colab_type": "code",
        "outputId": "3c30cf1a-bf7d-4336-b56a-a35542c6c347",
        "colab": {}
      },
      "source": [
        "True is True"
      ],
      "execution_count": 0,
      "outputs": [
        {
          "output_type": "execute_result",
          "data": {
            "text/plain": [
              "True"
            ]
          },
          "metadata": {
            "tags": []
          },
          "execution_count": 18
        }
      ]
    },
    {
      "cell_type": "code",
      "metadata": {
        "id": "Y9hWX8iqc9y5",
        "colab_type": "code",
        "outputId": "5c94b882-4c44-4b4e-af0f-d9dd025b51fd",
        "colab": {}
      },
      "source": [
        "True is False"
      ],
      "execution_count": 0,
      "outputs": [
        {
          "output_type": "execute_result",
          "data": {
            "text/plain": [
              "False"
            ]
          },
          "metadata": {
            "tags": []
          },
          "execution_count": 19
        }
      ]
    },
    {
      "cell_type": "code",
      "metadata": {
        "id": "Qc25b3oQc9zD",
        "colab_type": "code",
        "outputId": "d86bfc24-2b16-4cf4-efee-4a22d8af0887",
        "colab": {}
      },
      "source": [
        "'a' is 'a'          # works for strings"
      ],
      "execution_count": 0,
      "outputs": [
        {
          "output_type": "execute_result",
          "data": {
            "text/plain": [
              "True"
            ]
          },
          "metadata": {
            "tags": []
          },
          "execution_count": 29
        }
      ]
    },
    {
      "cell_type": "code",
      "metadata": {
        "id": "mHflaXqoc9zP",
        "colab_type": "code",
        "colab": {}
      },
      "source": [
        "2 is 2                # works for ints"
      ],
      "execution_count": 0,
      "outputs": []
    },
    {
      "cell_type": "markdown",
      "metadata": {
        "id": "TC6fVQazc9zW",
        "colab_type": "text"
      },
      "source": [
        "## Branching (if / elif / else)\n",
        "\n",
        "Python provides the if statement to allow branching based on conditions. Multiple elif checks can also be performed followed by an optional else clause. The if statement can be used with any evaluation of truthfullness."
      ]
    },
    {
      "cell_type": "code",
      "metadata": {
        "id": "Cgr4iyz2c9zX",
        "colab_type": "code",
        "colab": {}
      },
      "source": [
        "## print is funtion gives an output using given data and if , else is keyword this dosent give any o/p processing the data given"
      ],
      "execution_count": 0,
      "outputs": []
    },
    {
      "cell_type": "code",
      "metadata": {
        "id": "hqGWs_GMefP1",
        "colab_type": "code",
        "outputId": "6cab1eb6-7ea5-4468-f74b-7143f38a3263",
        "colab": {
          "base_uri": "https://localhost:8080/",
          "height": 129
        }
      },
      "source": [
        "If stm is a conditional operator"
      ],
      "execution_count": 0,
      "outputs": [
        {
          "output_type": "error",
          "ename": "SyntaxError",
          "evalue": "ignored",
          "traceback": [
            "\u001b[0;36m  File \u001b[0;32m\"<ipython-input-2-749b28e76f44>\"\u001b[0;36m, line \u001b[0;32m1\u001b[0m\n\u001b[0;31m    If stm is a conditional operator\u001b[0m\n\u001b[0m         ^\u001b[0m\n\u001b[0;31mSyntaxError\u001b[0m\u001b[0;31m:\u001b[0m invalid syntax\n"
          ]
        }
      ]
    },
    {
      "cell_type": "code",
      "metadata": {
        "scrolled": true,
        "id": "3zcyjMTac9zi",
        "colab_type": "code",
        "outputId": "4f4add09-38d9-447b-c331-db4268566568",
        "colab": {}
      },
      "source": [
        "i = 1\n",
        "if (i < 3):\n",
        "    print('less than 3')            # : is a must after each condition         # condition is True  -> execute\n",
        "    if (i<2):                       # indentaion is in buit in python\n",
        "        print(\" less than 2\")                                                  # condition  is True -> execute\n",
        "elif (i < 5):\n",
        "    print('less than 5')                                                       # as  1st 2 conditions are executed and the next\n",
        "else:                                                                          # 2 condtions are droped as it can only be \n",
        "    print('5 or more')                                                         # executed if above condtions were False\n"
      ],
      "execution_count": 0,
      "outputs": [
        {
          "output_type": "stream",
          "text": [
            "less than 3\n",
            " less than 2\n"
          ],
          "name": "stdout"
        }
      ]
    },
    {
      "cell_type": "code",
      "metadata": {
        "id": "UNSUaIoac9zx",
        "colab_type": "code",
        "colab": {}
      },
      "source": [
        "i=9\n",
        "if i==10:          ## pass : will tell pgm that there is no body part for the if stm\n",
        "    pass           ##pass is not in use too much"
      ],
      "execution_count": 0,
      "outputs": []
    },
    {
      "cell_type": "code",
      "metadata": {
        "id": "mj-z1eCpc9z4",
        "colab_type": "code",
        "outputId": "8d830d0e-1894-4c39-a07e-ed2e8a2174e5",
        "colab": {}
      },
      "source": [
        "s=\"Panna\"\n",
        "if True:\n",
        "    if s ==\"Panna\":\n",
        "        print(\" these two strings are same\")                  # true so execute\n",
        "    else :\n",
        "        print(\"print this second if stm is not valid\")\n",
        "else: \n",
        "    print(\"this is else for first if stm\")"
      ],
      "execution_count": 0,
      "outputs": [
        {
          "output_type": "stream",
          "text": [
            " these two strings are same\n"
          ],
          "name": "stdout"
        }
      ]
    },
    {
      "cell_type": "code",
      "metadata": {
        "id": "gF5roNUDc90A",
        "colab_type": "code",
        "outputId": "461d834f-c52f-4435-abaa-84f46dfab513",
        "colab": {}
      },
      "source": [
        "s=\"Panna \"  # space after panna dosent match\n",
        "if True:\n",
        "    if s ==\"Panna\":      # no space\n",
        "        print(\" these two strings are same\")\n",
        "    else :\n",
        "        print(\"print this second if stm is not valid\")                    \n",
        "else: \n",
        "    print(\"this is else for first if stm\")"
      ],
      "execution_count": 0,
      "outputs": [
        {
          "output_type": "stream",
          "text": [
            "print this second if stm is not valid\n"
          ],
          "name": "stdout"
        }
      ]
    },
    {
      "cell_type": "code",
      "metadata": {
        "id": "ZfN5Ut1cc90K",
        "colab_type": "code",
        "outputId": "a3446377-0d92-4129-afd9-a5f778073785",
        "colab": {}
      },
      "source": [
        "s=\"Panna\"\n",
        "if False:                                                            # as the if condition is false it will skip \n",
        "    if s ==\"Panna\":                                                   #executing 2nd if stm and will go to closing else\n",
        "        print(\" these two strings are same\")                          #  of 1st if stm\n",
        "    else :\n",
        "        print(\"print this second if stm is not valid\")\n",
        "else: \n",
        "    print(\"this is else for first if stm\")"
      ],
      "execution_count": 0,
      "outputs": [
        {
          "output_type": "stream",
          "text": [
            "this is else for first if stm\n"
          ],
          "name": "stdout"
        }
      ]
    },
    {
      "cell_type": "code",
      "metadata": {
        "id": "jhaFpsnPc90W",
        "colab_type": "code",
        "outputId": "f4e22f0e-ba99-4602-d8bf-7c03acab2cb6",
        "colab": {}
      },
      "source": [
        "s=\"Panna\"                           \n",
        "if True:\n",
        "    if s ==\"Panna\":\n",
        "        print(\" these two strings are same\")"
      ],
      "execution_count": 0,
      "outputs": [
        {
          "output_type": "stream",
          "text": [
            " these two strings are same\n"
          ],
          "name": "stdout"
        }
      ]
    },
    {
      "cell_type": "code",
      "metadata": {
        "id": "Dt3BTXaWevQU",
        "colab_type": "code",
        "outputId": "3e38ad0f-452d-4113-c37f-6b9f281e3199",
        "colab": {
          "base_uri": "https://localhost:8080/",
          "height": 34
        }
      },
      "source": [
        "i=2                                                             #3 else can be used with condtional operators\n",
        "if i<3 and i>1 and i>1 and i>1:\n",
        "  print(\"less than 3\")\n",
        "elif i<5:\n",
        "  print(\"less than 5\")\n",
        "else:\n",
        "  print(\"more than 5\")"
      ],
      "execution_count": 0,
      "outputs": [
        {
          "output_type": "stream",
          "text": [
            "less than 3\n"
          ],
          "name": "stdout"
        }
      ]
    },
    {
      "cell_type": "code",
      "metadata": {
        "id": "MeQbqmbRrPuK",
        "colab_type": "code",
        "outputId": "f1b040a9-fac4-41d1-8215-ac2c4fc129b8",
        "colab": {
          "base_uri": "https://localhost:8080/",
          "height": 34
        }
      },
      "source": [
        "i=3+5j\n",
        "j=type(i)\n",
        "if j == complex:\n",
        "     print(\"complex\")\n",
        "else:\n",
        "      print(\"non complex\")"
      ],
      "execution_count": 0,
      "outputs": [
        {
          "output_type": "stream",
          "text": [
            "complex\n"
          ],
          "name": "stdout"
        }
      ]
    },
    {
      "cell_type": "code",
      "metadata": {
        "id": "uYR_QgULc90f",
        "colab_type": "code",
        "outputId": "e03dfff9-ca80-4caa-fc14-429936b57e01",
        "colab": {}
      },
      "source": [
        "input()      ## to put input through console"
      ],
      "execution_count": 0,
      "outputs": [
        {
          "output_type": "stream",
          "text": [
            "panna\n"
          ],
          "name": "stdout"
        },
        {
          "output_type": "execute_result",
          "data": {
            "text/plain": [
              "'panna'"
            ]
          },
          "metadata": {
            "tags": []
          },
          "execution_count": 19
        }
      ]
    },
    {
      "cell_type": "markdown",
      "metadata": {
        "id": "iDQlbiKnc90p",
        "colab_type": "text"
      },
      "source": [
        "## Block Structure and Whitespace\n",
        "\n",
        "The code that is executed when a specific condition is met is defined in a \"block.\" In Python, the block structure is signalled by changes in indentation. Each line of code in a certain block level must be indented equally and indented more than the surrounding scope. The standard (defined in \n",
        "PEP-8) is to use 4 spaces for each level of block indentation. Statements preceding blocks generally end with a colon (:).\n",
        "\n",
        "Because there are no semi-colons or other end-of-line indicators in Python, breaking lines of code requires either a continuation character (\\ as the last char) or for the break to occur inside an unfinished structure (such as open parentheses).\n",
        "\n"
      ]
    },
    {
      "cell_type": "markdown",
      "metadata": {
        "id": "8LbwhBMAc90q",
        "colab_type": "text"
      },
      "source": [
        "## Advanced Types: Containers\n",
        "\n",
        "One of the great advantages of Python as a programming language is the ease with which it allows you to manipulate containers. Containers (or collections) are an integral part of the language and, as you’ll see, built in to the core of the language’s syntax. As a result, thinking in a Pythonic manner means thinking about containers.\n",
        "\n",
        "### Lists\n",
        "\n",
        "The first container type that we will look at is the list. A list represents an ordered, mutable collection of objects. You can mix and match any type of object in a list, add to it and remove from it at will.\n",
        "\n",
        "Creating Empty Lists. To create an empty list, you can use empty square brackets or use the list() function with no arguments. both give us a different type of output w.r,t strings, but both are used to define a list.\n",
        "\n"
      ]
    },
    {
      "cell_type": "code",
      "metadata": {
        "id": "hD-vgwrEc90r",
        "colab_type": "code",
        "outputId": "edfa4d63-6347-46d0-fc03-b9a1b3706990",
        "colab": {}
      },
      "source": [
        "l = []\n",
        "l"
      ],
      "execution_count": 0,
      "outputs": [
        {
          "output_type": "execute_result",
          "data": {
            "text/plain": [
              "[]"
            ]
          },
          "metadata": {
            "tags": []
          },
          "execution_count": 1
        }
      ]
    },
    {
      "cell_type": "code",
      "metadata": {
        "id": "LKmF2fvWc90w",
        "colab_type": "code",
        "outputId": "0cfa92d3-bd22-4adc-ffbc-10ec6c9ae1e1",
        "colab": {}
      },
      "source": [
        "type(l)"
      ],
      "execution_count": 0,
      "outputs": [
        {
          "output_type": "execute_result",
          "data": {
            "text/plain": [
              "list"
            ]
          },
          "metadata": {
            "tags": []
          },
          "execution_count": 2
        }
      ]
    },
    {
      "cell_type": "code",
      "metadata": {
        "id": "nPFvucqsc902",
        "colab_type": "code",
        "outputId": "9d1a2400-f200-42d0-dfa2-0b17a7629cd9",
        "colab": {}
      },
      "source": [
        "l = list()\n",
        "l"
      ],
      "execution_count": 0,
      "outputs": [
        {
          "output_type": "execute_result",
          "data": {
            "text/plain": [
              "[]"
            ]
          },
          "metadata": {
            "tags": []
          },
          "execution_count": 3
        }
      ]
    },
    {
      "cell_type": "code",
      "metadata": {
        "id": "bpOsboNnc907",
        "colab_type": "code",
        "outputId": "5dd6c767-3298-4aa1-c9a0-51c12fb199f0",
        "colab": {}
      },
      "source": [
        "type(l)"
      ],
      "execution_count": 0,
      "outputs": [
        {
          "output_type": "execute_result",
          "data": {
            "text/plain": [
              "list"
            ]
          },
          "metadata": {
            "tags": []
          },
          "execution_count": 4
        }
      ]
    },
    {
      "cell_type": "markdown",
      "metadata": {
        "id": "PFcoz3oXc91A",
        "colab_type": "text"
      },
      "source": [
        "Initializing Lists. You can initialize a list with content of any sort using the same square bracket notation. The list() function also takes an iterable as a single argument and returns a shallow copy of that iterable as a new list. A list is one such iterable as we’ll see soon, and we’ll see others later."
      ]
    },
    {
      "cell_type": "code",
      "metadata": {
        "id": "JPlFpQHwc91B",
        "colab_type": "code",
        "outputId": "1bec5fd0-6276-4510-e4a1-f68680825388",
        "colab": {
          "base_uri": "https://localhost:8080/",
          "height": 34
        }
      },
      "source": [
        "l1 = [\"dsad\", 'b', 'c']  ## list can take any kind of data type\n",
        "l2 = ['a',6,4.0, True]   ## index starts from zero\n",
        "type(l2)"
      ],
      "execution_count": 0,
      "outputs": [
        {
          "output_type": "execute_result",
          "data": {
            "text/plain": [
              "list"
            ]
          },
          "metadata": {
            "tags": []
          },
          "execution_count": 10
        }
      ]
    },
    {
      "cell_type": "code",
      "metadata": {
        "id": "tbM9NW5Gc91G",
        "colab_type": "code",
        "outputId": "0bd561c4-1416-4137-ba97-4abf6a66b44d",
        "colab": {
          "base_uri": "https://localhost:8080/",
          "height": 34
        }
      },
      "source": [
        "k= l1  + l2     ## in common, for concatenation the data type should be same\n",
        "k              #  1st both list will ravel/ unwrap both list then adds both "
      ],
      "execution_count": 0,
      "outputs": [
        {
          "output_type": "execute_result",
          "data": {
            "text/plain": [
              "['dsad', 'b', 'c', 'a', 6, 4.0, True]"
            ]
          },
          "metadata": {
            "tags": []
          },
          "execution_count": 13
        }
      ]
    },
    {
      "cell_type": "code",
      "metadata": {
        "id": "O4ks_3Oyc91L",
        "colab_type": "code",
        "outputId": "c90bca7b-4719-40e1-b89b-490fa403f341",
        "colab": {
          "base_uri": "https://localhost:8080/",
          "height": 34
        }
      },
      "source": [
        "l=[\"jkdfgkdfgj\"]        # when you use string within square brackets\n",
        "l"
      ],
      "execution_count": 0,
      "outputs": [
        {
          "output_type": "execute_result",
          "data": {
            "text/plain": [
              "['jkdfgkdfgj']"
            ]
          },
          "metadata": {
            "tags": []
          },
          "execution_count": 23
        }
      ]
    },
    {
      "cell_type": "code",
      "metadata": {
        "id": "9FKTrSyb2nvd",
        "colab_type": "code",
        "outputId": "529c34dc-f662-4185-d325-b9d8e682a9c7",
        "colab": {
          "base_uri": "https://localhost:8080/",
          "height": 34
        }
      },
      "source": [
        "l+[\"sudh\"]            #concatenate list and string"
      ],
      "execution_count": 0,
      "outputs": [
        {
          "output_type": "execute_result",
          "data": {
            "text/plain": [
              "['jkdfgkdfgj', 'sudh']"
            ]
          },
          "metadata": {
            "tags": []
          },
          "execution_count": 24
        }
      ]
    },
    {
      "cell_type": "markdown",
      "metadata": {
        "id": "_FcvpQvNhnng",
        "colab_type": "text"
      },
      "source": [
        " ** Indexing (extracting or parsing the ele from the list)**"
      ]
    },
    {
      "cell_type": "code",
      "metadata": {
        "id": "3anS_AUcjEdQ",
        "colab_type": "code",
        "outputId": "490bdfdb-c764-48d7-a164-7e1209c00a53",
        "colab": {
          "base_uri": "https://localhost:8080/",
          "height": 34
        }
      },
      "source": [
        "l2[3]"
      ],
      "execution_count": 0,
      "outputs": [
        {
          "output_type": "execute_result",
          "data": {
            "text/plain": [
              "True"
            ]
          },
          "metadata": {
            "tags": []
          },
          "execution_count": 11
        }
      ]
    },
    {
      "cell_type": "code",
      "metadata": {
        "id": "6y18F7BCkOF1",
        "colab_type": "code",
        "outputId": "2f143acd-dd9d-4bb9-ee1d-ec1273035d14",
        "colab": {
          "base_uri": "https://localhost:8080/",
          "height": 34
        }
      },
      "source": [
        "type(l2[3])                 ## use type to finf the data type in that given index"
      ],
      "execution_count": 0,
      "outputs": [
        {
          "output_type": "execute_result",
          "data": {
            "text/plain": [
              "bool"
            ]
          },
          "metadata": {
            "tags": []
          },
          "execution_count": 15
        }
      ]
    },
    {
      "cell_type": "code",
      "metadata": {
        "id": "AnOo04sijMJJ",
        "colab_type": "code",
        "outputId": "900d1406-34a3-48d1-e32e-275b31dc2037",
        "colab": {
          "base_uri": "https://localhost:8080/",
          "height": 34
        }
      },
      "source": [
        "k[2:6]             ##list[lower bound:upper bound:step]   normally upper bound is left out and step is by default+1"
      ],
      "execution_count": 0,
      "outputs": [
        {
          "output_type": "execute_result",
          "data": {
            "text/plain": [
              "['c', 'a', 6, 4.0]"
            ]
          },
          "metadata": {
            "tags": []
          },
          "execution_count": 14
        }
      ]
    },
    {
      "cell_type": "code",
      "metadata": {
        "id": "gaUQPs9xhlhh",
        "colab_type": "code",
        "outputId": "ac963183-fbf2-466c-f059-9570a6d14a9b",
        "colab": {
          "base_uri": "https://localhost:8080/",
          "height": 34
        }
      },
      "source": [
        "p=\"panna\"              ## indexing also works for strings\n",
        "p[1]"
      ],
      "execution_count": 0,
      "outputs": [
        {
          "output_type": "execute_result",
          "data": {
            "text/plain": [
              "'a'"
            ]
          },
          "metadata": {
            "tags": []
          },
          "execution_count": 9
        }
      ]
    },
    {
      "cell_type": "code",
      "metadata": {
        "id": "FMapUY3Zc91Q",
        "colab_type": "code",
        "outputId": "e7340a0f-4ebe-4d65-d4ec-6dc420f4e13d",
        "colab": {
          "base_uri": "https://localhost:8080/",
          "height": 34
        }
      },
      "source": [
        "p=\"panna\"              # reverse using step -1 in string\n",
        "p[::-1]"
      ],
      "execution_count": 0,
      "outputs": [
        {
          "output_type": "execute_result",
          "data": {
            "text/plain": [
              "'annap'"
            ]
          },
          "metadata": {
            "tags": []
          },
          "execution_count": 8
        }
      ]
    },
    {
      "cell_type": "code",
      "metadata": {
        "id": "yxIJWaBnc91V",
        "colab_type": "code",
        "outputId": "a012b485-2219-4e66-d436-60e6a2f924e7",
        "colab": {
          "base_uri": "https://localhost:8080/",
          "height": 34
        }
      },
      "source": [
        "p=[\"Panna\",\"Prithvi\",\"amma\",0.2,(6+5j)]   # reverse the list objs\n",
        "p[::-1]"
      ],
      "execution_count": 0,
      "outputs": [
        {
          "output_type": "execute_result",
          "data": {
            "text/plain": [
              "[(6+5j), 0.2, 'amma', 'Prithvi', 'Panna']"
            ]
          },
          "metadata": {
            "tags": []
          },
          "execution_count": 16
        }
      ]
    },
    {
      "cell_type": "code",
      "metadata": {
        "id": "mOV66O694RsM",
        "colab_type": "code",
        "colab": {}
      },
      "source": [
        "## you cannt reverse the integer elements present in the list but only reverse the string obj"
      ],
      "execution_count": 0,
      "outputs": []
    },
    {
      "cell_type": "code",
      "metadata": {
        "id": "SMFLdoSkk3lE",
        "colab_type": "code",
        "outputId": "8010778e-9b85-492e-8ec0-44b46b90a67e",
        "colab": {
          "base_uri": "https://localhost:8080/",
          "height": 34
        }
      },
      "source": [
        "p[4:1:1]                 ## direction of the step is opp, to the bounds"
      ],
      "execution_count": 0,
      "outputs": [
        {
          "output_type": "execute_result",
          "data": {
            "text/plain": [
              "[]"
            ]
          },
          "metadata": {
            "tags": []
          },
          "execution_count": 17
        }
      ]
    },
    {
      "cell_type": "code",
      "metadata": {
        "id": "d19v1CoRlPR7",
        "colab_type": "code",
        "outputId": "f5059f84-e18c-47ab-de08-f2b1ad80dabf",
        "colab": {
          "base_uri": "https://localhost:8080/",
          "height": 34
        }
      },
      "source": [
        "p[4:1:-1]                 ## direction of the step and the bound are same negative and negative"
      ],
      "execution_count": 0,
      "outputs": [
        {
          "output_type": "execute_result",
          "data": {
            "text/plain": [
              "[(6+5j), 0.2, 'amma']"
            ]
          },
          "metadata": {
            "tags": []
          },
          "execution_count": 18
        }
      ]
    },
    {
      "cell_type": "code",
      "metadata": {
        "id": "i_MUZ8EIc91h",
        "colab_type": "code",
        "outputId": "288295f6-4816-4806-97cf-6246e995eaf7",
        "colab": {}
      },
      "source": [
        "l=list(\"jkdfgkdfgj\")     # when you use list function to assign string as a \n",
        "l                        # value to a list, O/P changes"
      ],
      "execution_count": 0,
      "outputs": [
        {
          "output_type": "execute_result",
          "data": {
            "text/plain": [
              "['j', 'k', 'd', 'f', 'g', 'k', 'd', 'f', 'g', 'j']"
            ]
          },
          "metadata": {
            "tags": []
          },
          "execution_count": 12
        }
      ]
    },
    {
      "cell_type": "code",
      "metadata": {
        "id": "Sj49uCfWc91o",
        "colab_type": "code",
        "outputId": "4e4f4285-0d19-4584-ee79-20f84785654c",
        "colab": {}
      },
      "source": [
        "I=[\"panna\",0.2]            ###################################\n",
        "I.insert(-2,\"pappa\")        ############## SPL NEGATIVE INDEX\n",
        "                            ### MIGHT USE LAST OBJ AS 0 THEN INSERT IN THE REQ PLACE\n",
        "I.append(-1)                ##append adds the given element to the last index of the list            \n",
        "I"
      ],
      "execution_count": 0,
      "outputs": [
        {
          "output_type": "execute_result",
          "data": {
            "text/plain": [
              "['pappa', 'panna', 0.2, -1]"
            ]
          },
          "metadata": {
            "tags": []
          },
          "execution_count": 28
        }
      ]
    },
    {
      "cell_type": "code",
      "metadata": {
        "id": "3yJRifUic91u",
        "colab_type": "code",
        "outputId": "1a8e637a-efe8-4d00-b83d-788dc3ffe06d",
        "colab": {}
      },
      "source": [
        "l=list([\"jkdfgkdfgj\"])      ## we can use square brackets within the list\n",
        "l                           ## function to get the desired O/P"
      ],
      "execution_count": 0,
      "outputs": [
        {
          "output_type": "execute_result",
          "data": {
            "text/plain": [
              "['jkdfgkdfgj']"
            ]
          },
          "metadata": {
            "tags": []
          },
          "execution_count": 13
        }
      ]
    },
    {
      "cell_type": "markdown",
      "metadata": {
        "id": "ebCF69Eqc910",
        "colab_type": "text"
      },
      "source": [
        "A Python string is also a sequence of characters and can be treated as an iterable over those characters. Combined with the list() function, a new list of the characters can easily be generated."
      ]
    },
    {
      "cell_type": "code",
      "metadata": {
        "id": "2Cb5um72c912",
        "colab_type": "code",
        "outputId": "fc88aeaf-74e0-4b15-b055-2d9f06f3f2b3",
        "colab": {}
      },
      "source": [
        "l=list(\"jkdfgkdgj\")\n",
        "l"
      ],
      "execution_count": 0,
      "outputs": [
        {
          "output_type": "execute_result",
          "data": {
            "text/plain": [
              "['j', 'k', 'd', 'f', 'g', 'k', 'd', 'g', 'j']"
            ]
          },
          "metadata": {
            "tags": []
          },
          "execution_count": 64
        }
      ]
    },
    {
      "cell_type": "code",
      "metadata": {
        "id": "0pjiPiXUc91-",
        "colab_type": "code",
        "outputId": "9b930fdc-5bf4-475b-e003-e58e189a69ed",
        "colab": {}
      },
      "source": [
        "len(l)"
      ],
      "execution_count": 0,
      "outputs": [
        {
          "output_type": "execute_result",
          "data": {
            "text/plain": [
              "9"
            ]
          },
          "metadata": {
            "tags": []
          },
          "execution_count": 65
        }
      ]
    },
    {
      "cell_type": "markdown",
      "metadata": {
        "id": "WmWhoe2Hc92F",
        "colab_type": "text"
      },
      "source": [
        "**Adding**. You can append to a list very easily (add to the end) or insert at an arbitrary index. To know all the methods applicable for the list use \n",
        "syntax:list_name.(press tab to get the methods, classes, objects list)(required arguements)."
      ]
    },
    {
      "cell_type": "code",
      "metadata": {
        "id": "fOj7v1uvc92G",
        "colab_type": "code",
        "outputId": "641a6f18-ac3d-4ce1-cb25-9976a6f801ed",
        "colab": {
          "base_uri": "https://localhost:8080/",
          "height": 34
        }
      },
      "source": [
        "l"
      ],
      "execution_count": 0,
      "outputs": [
        {
          "output_type": "execute_result",
          "data": {
            "text/plain": [
              "['jkdfgkdfgj']"
            ]
          },
          "metadata": {
            "tags": []
          },
          "execution_count": 28
        }
      ]
    },
    {
      "cell_type": "code",
      "metadata": {
        "id": "DMZS2BMT3iYG",
        "colab_type": "code",
        "outputId": "c075698a-364f-462b-e7d2-941dbc77cd9c",
        "colab": {
          "base_uri": "https://localhost:8080/",
          "height": 163
        }
      },
      "source": [
        "iter(6)             ## to find out is the data type is iterable or not"
      ],
      "execution_count": 0,
      "outputs": [
        {
          "output_type": "error",
          "ename": "TypeError",
          "evalue": "ignored",
          "traceback": [
            "\u001b[0;31m---------------------------------------------------------------------------\u001b[0m",
            "\u001b[0;31mTypeError\u001b[0m                                 Traceback (most recent call last)",
            "\u001b[0;32m<ipython-input-30-11801154f355>\u001b[0m in \u001b[0;36m<module>\u001b[0;34m()\u001b[0m\n\u001b[0;32m----> 1\u001b[0;31m \u001b[0miter\u001b[0m\u001b[0;34m(\u001b[0m\u001b[0;36m6\u001b[0m\u001b[0;34m)\u001b[0m\u001b[0;34m\u001b[0m\u001b[0;34m\u001b[0m\u001b[0m\n\u001b[0m",
            "\u001b[0;31mTypeError\u001b[0m: 'int' object is not iterable"
          ]
        }
      ]
    },
    {
      "cell_type": "code",
      "metadata": {
        "id": "VF18XFPec92O",
        "colab_type": "code",
        "outputId": "57524ae6-ca5c-420d-f7e3-4305663c9864",
        "colab": {}
      },
      "source": [
        "l.append(\"a\")            ## adds the value to the end of the list\n",
        "l"
      ],
      "execution_count": 0,
      "outputs": [
        {
          "output_type": "execute_result",
          "data": {
            "text/plain": [
              "['j', 'k', 'd', 'f', 'g', 'k', 'd', 'g', 'j', 'a']"
            ]
          },
          "metadata": {
            "tags": []
          },
          "execution_count": 62
        }
      ]
    },
    {
      "cell_type": "code",
      "metadata": {
        "id": "rk-B0FV_c92V",
        "colab_type": "code",
        "outputId": "9e960bd3-a315-4923-8a23-3c739f71ce70",
        "colab": {}
      },
      "source": [
        "l.insert(1, 26)                               ## use a space before 26 for safety\n",
        "l                                                "
      ],
      "execution_count": 0,
      "outputs": [
        {
          "output_type": "execute_result",
          "data": {
            "text/plain": [
              "['j', 26, 'k', 'd', 'f', 'g', 'k', 'd', 'g', 'j', 'a']"
            ]
          },
          "metadata": {
            "tags": []
          },
          "execution_count": 63
        }
      ]
    },
    {
      "cell_type": "code",
      "metadata": {
        "id": "68EufWXJc92i",
        "colab_type": "code",
        "outputId": "3dae2f5c-3c1b-43a8-e2a7-dd82c6749e53",
        "colab": {}
      },
      "source": [
        "p=[]                      # nested list\n",
        "p.append(\"panna\")       ## in case of nested list, it will not unravel during the concatination\n",
        "p.append(0.2)\n",
        "p.append([\"amma\",5,6,3,4.563])\n",
        "p.insert(13,['anna','pappa',\"nene0.2\"])\n",
        "p"
      ],
      "execution_count": 0,
      "outputs": [
        {
          "output_type": "execute_result",
          "data": {
            "text/plain": [
              "['panna', 0.2, ['amma', 5, 6, 3, 4.563], ['anna', 'pappa', 'nene0.2']]"
            ]
          },
          "metadata": {
            "tags": []
          },
          "execution_count": 14
        }
      ]
    },
    {
      "cell_type": "code",
      "metadata": {
        "id": "EqbYFxtRc92o",
        "colab_type": "code",
        "outputId": "972619db-6476-4fd9-cdc4-0e601b621ba6",
        "colab": {}
      },
      "source": [
        "list(p[2][0])     ## parsing the data means extracting the data from the list using index one by one # listfunct is \n",
        "                   ##used to scatter a string too"
      ],
      "execution_count": 0,
      "outputs": [
        {
          "output_type": "execute_result",
          "data": {
            "text/plain": [
              "['a', 'm', 'm', 'a']"
            ]
          },
          "metadata": {
            "tags": []
          },
          "execution_count": 16
        }
      ]
    },
    {
      "cell_type": "code",
      "metadata": {
        "id": "O5YSWLFuc92w",
        "colab_type": "code",
        "outputId": "ba0f742e-145e-4c1c-f276-bb360f8ba32e",
        "colab": {}
      },
      "source": [
        "p[2][0] # extract data using index"
      ],
      "execution_count": 0,
      "outputs": [
        {
          "output_type": "execute_result",
          "data": {
            "text/plain": [
              "'amma'"
            ]
          },
          "metadata": {
            "tags": []
          },
          "execution_count": 17
        }
      ]
    },
    {
      "cell_type": "code",
      "metadata": {
        "id": "YVsfheNBc928",
        "colab_type": "code",
        "outputId": "5dad9178-6ba9-4a3b-c68c-32ebc445fc68",
        "colab": {}
      },
      "source": [
        "p[3][1][::-1]       # extracting with reversing"
      ],
      "execution_count": 0,
      "outputs": [
        {
          "output_type": "execute_result",
          "data": {
            "text/plain": [
              "'appap'"
            ]
          },
          "metadata": {
            "tags": []
          },
          "execution_count": 20
        }
      ]
    },
    {
      "cell_type": "code",
      "metadata": {
        "id": "-w2JPGsJc93B",
        "colab_type": "code",
        "outputId": "03f7d758-45f9-4a3d-b11f-9b1b852b336b",
        "colab": {}
      },
      "source": [
        "p[0][3:0:-1]"
      ],
      "execution_count": 0,
      "outputs": [
        {
          "output_type": "execute_result",
          "data": {
            "text/plain": [
              "'nna'"
            ]
          },
          "metadata": {
            "tags": []
          },
          "execution_count": 22
        }
      ]
    },
    {
      "cell_type": "code",
      "metadata": {
        "scrolled": true,
        "id": "0gHwe0fUc93G",
        "colab_type": "code",
        "outputId": "c07c0e88-51db-4fd9-c450-d4930b405907",
        "colab": {}
      },
      "source": [
        "l.insert(0,5)              ## insert is used to insert the value/object at the \n",
        "l                    ## specific index here index is 0 object is 5(run twice)"
      ],
      "execution_count": 0,
      "outputs": [
        {
          "output_type": "execute_result",
          "data": {
            "text/plain": [
              "[5, 'j', 'k', 'd', 'f', 'g', 'k', 'd', 'g', 'j', 'a']"
            ]
          },
          "metadata": {
            "tags": []
          },
          "execution_count": 7
        }
      ]
    },
    {
      "cell_type": "code",
      "metadata": {
        "id": "4sQ01JA0c93N",
        "colab_type": "code",
        "outputId": "bcc9d3fc-abe8-4513-cb90-42d0142eae22",
        "colab": {}
      },
      "source": [
        "l.pop()       ## pop is used to remove the last item/object in the list\n",
        "l              ## index (-1)"
      ],
      "execution_count": 0,
      "outputs": [
        {
          "output_type": "execute_result",
          "data": {
            "text/plain": [
              "[5, 'j', 'k', 'd', 'f', 'g', 'k', 'd', 'g', 'j']"
            ]
          },
          "metadata": {
            "tags": []
          },
          "execution_count": 8
        }
      ]
    },
    {
      "cell_type": "code",
      "metadata": {
        "id": "aKdcI2WOc93S",
        "colab_type": "code",
        "outputId": "69079d6e-1483-4120-eb10-f2973095b7eb",
        "colab": {}
      },
      "source": [
        "l"
      ],
      "execution_count": 0,
      "outputs": [
        {
          "output_type": "execute_result",
          "data": {
            "text/plain": [
              "[5, 26, 'j', 'k', 'd', 'f', 'g', 'k', 'd', 'g', 'j']"
            ]
          },
          "metadata": {
            "tags": []
          },
          "execution_count": 10
        }
      ]
    },
    {
      "cell_type": "code",
      "metadata": {
        "id": "10oUbBDoc93Y",
        "colab_type": "code",
        "colab": {}
      },
      "source": [
        "### to  know the arguements to be given use Shift tab after the method used \n",
        "## eg.  l.append(shift+tab)"
      ],
      "execution_count": 0,
      "outputs": []
    },
    {
      "cell_type": "code",
      "metadata": {
        "id": "JkVPrr3Kc93d",
        "colab_type": "code",
        "outputId": "3068c4ef-7fa0-4bd7-e5ac-e813585f99e0",
        "colab": {}
      },
      "source": [
        "l.insert(16, \"panna\")                     ## if u try to insert in the index beyond \n",
        "l                                        ## that of list it will insert at the end of the list"
      ],
      "execution_count": 0,
      "outputs": [
        {
          "output_type": "execute_result",
          "data": {
            "text/plain": [
              "[5, 26, 'j', 'k', 'd', 'f', 'g', 'k', 'panna', 'd', 'g', 'j', 'panna']"
            ]
          },
          "metadata": {
            "tags": []
          },
          "execution_count": 12
        }
      ]
    },
    {
      "cell_type": "markdown",
      "metadata": {
        "id": "tCSl0P8nc93h",
        "colab_type": "text"
      },
      "source": [
        "The variables declared are temporary and will be erased once the NB is closed . To get it back all the codes should be run again.  \n",
        "  Iterating. Iterating over a list is very simple. All iterables in Python allow access to elements using the for ... in statement. In this structure, each element in the iterable is sequentially assigned to the \"loop variable\" for a single pass of the loop, during which the enclosed block is executed."
      ]
    },
    {
      "cell_type": "code",
      "metadata": {
        "id": "xcSMI35Uc93j",
        "colab_type": "code",
        "outputId": "b0d90f52-36b8-420d-bb2f-46199fa7a621",
        "colab": {}
      },
      "source": [
        "for fg in l:                   #Type1    # to extract data from the list one by one then we use \n",
        "    print(fg)                   # for loop as an iterator fg: is a local var for ,for loop\n",
        "                                # FOR LOOp will extraxt the data from l and store in fg and gives u O/P\n",
        "                               # this cannot be used in the same manner with integer"
      ],
      "execution_count": 0,
      "outputs": [
        {
          "output_type": "stream",
          "text": [
            "5\n",
            "26\n",
            "j\n",
            "k\n",
            "d\n",
            "f\n",
            "g\n",
            "k\n",
            "panna\n",
            "d\n",
            "g\n",
            "j\n",
            "panna\n"
          ],
          "name": "stdout"
        }
      ]
    },
    {
      "cell_type": "code",
      "metadata": {
        "scrolled": true,
        "id": "lTiXuhiic93o",
        "colab_type": "code",
        "outputId": "bdf4703e-4205-49f7-e57c-871bbb3d180e",
        "colab": {}
      },
      "source": [
        "for a in [1,2,3,\"panna\"]:    # Type 2 # you can delacre the list without\n",
        "    print(a)                # within for loop stm"
      ],
      "execution_count": 0,
      "outputs": [
        {
          "output_type": "stream",
          "text": [
            "1\n",
            "2\n",
            "3\n",
            "panna\n"
          ],
          "name": "stdout"
        }
      ]
    },
    {
      "cell_type": "code",
      "metadata": {
        "id": "2ktnIVftc93t",
        "colab_type": "code",
        "outputId": "acad0af2-2c2f-4543-9f7e-02e3f47b4bca",
        "colab": {}
      },
      "source": [
        "for a in [1,2,3,\"panna\"]:    # Type 2 # you can delacre the list without\n",
        "    print(type(a))               # gives you the dta type in the list"
      ],
      "execution_count": 0,
      "outputs": [
        {
          "output_type": "stream",
          "text": [
            "<class 'int'>\n",
            "<class 'int'>\n",
            "<class 'int'>\n",
            "<class 'str'>\n"
          ],
          "name": "stdout"
        }
      ]
    },
    {
      "cell_type": "code",
      "metadata": {
        "id": "dLriAGg7c93y",
        "colab_type": "code",
        "outputId": "15af5745-85ce-4aa1-94aa-858b8efe6c90",
        "colab": {}
      },
      "source": [
        "for a in \"prithvi\":       # type3 # use string as a list without assigning var name\n",
        "    print(a)"
      ],
      "execution_count": 0,
      "outputs": [
        {
          "output_type": "stream",
          "text": [
            "p\n",
            "r\n",
            "i\n",
            "t\n",
            "h\n",
            "v\n",
            "i\n"
          ],
          "name": "stdout"
        }
      ]
    },
    {
      "cell_type": "code",
      "metadata": {
        "id": "6vOlpxhSc932",
        "colab_type": "code",
        "outputId": "982a8062-f7a5-40e5-e70a-10147446ef45",
        "colab": {}
      },
      "source": [
        "for i in [1,2,3,4,5]:    ##Type 4 :# the temporary var and the print input can vary\n",
        "    print(\"hello\")"
      ],
      "execution_count": 0,
      "outputs": [
        {
          "output_type": "stream",
          "text": [
            "hello\n",
            "hello\n",
            "hello\n",
            "hello\n",
            "hello\n"
          ],
          "name": "stdout"
        }
      ]
    },
    {
      "cell_type": "code",
      "metadata": {
        "id": "DNBQwbk1c937",
        "colab_type": "code",
        "outputId": "b6d952eb-fc6f-4660-b684-9342084de606",
        "colab": {}
      },
      "source": [
        "p=[]                         ### type 5 :# initiate a empty list\n",
        "for i in [0,1,2,3,4,5] :    # use for loop to delacre a list and append each element in to the empty list using its iterating\n",
        "    p.append(i)             # nature and append funtion\n",
        "p"
      ],
      "execution_count": 0,
      "outputs": [
        {
          "output_type": "execute_result",
          "data": {
            "text/plain": [
              "[0, 1, 2, 3, 4, 5]"
            ]
          },
          "metadata": {
            "tags": []
          },
          "execution_count": 24
        }
      ]
    },
    {
      "cell_type": "code",
      "metadata": {
        "id": "wSsGkjXNc94D",
        "colab_type": "code",
        "outputId": "bf4c8cbc-7953-4b1e-80d3-b70e519d4ae9",
        "colab": {}
      },
      "source": [
        "s=\"panna\"   ##there is s conflict between the upper bound and lower bound and the steps\n",
        "s[3:0]"
      ],
      "execution_count": 0,
      "outputs": [
        {
          "output_type": "execute_result",
          "data": {
            "text/plain": [
              "''"
            ]
          },
          "metadata": {
            "tags": []
          },
          "execution_count": 1
        }
      ]
    },
    {
      "cell_type": "code",
      "metadata": {
        "id": "LMSDMBpLc94S",
        "colab_type": "code",
        "outputId": "89430169-9792-43ec-daae-7cae7cdcd5ef",
        "colab": {}
      },
      "source": [
        "for i in \"sudh\":\n",
        "    print(i,end=' ')"
      ],
      "execution_count": 0,
      "outputs": [
        {
          "output_type": "stream",
          "text": [
            "s u d h "
          ],
          "name": "stdout"
        }
      ]
    },
    {
      "cell_type": "code",
      "metadata": {
        "id": "ozGsvHWUc94Y",
        "colab_type": "code",
        "outputId": "e0b5960a-f125-48bb-d18d-0602844f9584",
        "colab": {}
      },
      "source": [
        "for i in \"sudh\":\n",
        "    print(i,sep=\" \",end=',')"
      ],
      "execution_count": 0,
      "outputs": [
        {
          "output_type": "stream",
          "text": [
            "s,u,d,h,"
          ],
          "name": "stdout"
        }
      ]
    },
    {
      "cell_type": "markdown",
      "metadata": {
        "id": "smJ-qzI1c94d",
        "colab_type": "text"
      },
      "source": [
        "## Loops\n",
        "\n",
        "In general, statements are executed sequentially: The first statement in a function is executed first, followed by the second, and so on. There may be a situation when you need to execute a block of code several number of times.\n",
        "\n",
        "Programming languages provide various control structures that allow for more complicated execution paths.\n",
        "\n",
        "### For loop\n",
        "\n",
        "The for loop in Python is used to iterate over a sequence (list, tuple, string) or other iterable objects. Iterating over a sequence is called traversal.\n",
        "\n",
        "Loop continues until we reach the last item in the sequence. The body of for loop is separated from the rest of the code using indentation.\n",
        "\n",
        "\n",
        "<img src=\"Images/forLoop.jpg\">"
      ]
    },
    {
      "cell_type": "code",
      "metadata": {
        "id": "5PN2n46Kc94e",
        "colab_type": "code",
        "outputId": "04dd2476-cf70-455c-dd61-3937432d9707",
        "colab": {}
      },
      "source": [
        "# Program to find the sum of all numbers stored in a list\n",
        "\n",
        "# List of numbers\n",
        "numbers = [6,5,5,9,5,5,4,9]\n",
        "\n",
        "# variable to store the sum\n",
        "sum =0\n",
        "\n",
        "# iterate over the list\n",
        "for val in numbers:\n",
        "    sum = sum + val\n",
        "\n",
        "# Output: The sum is 48\n",
        "print(\" the sum of all numbers is :\", sum)"
      ],
      "execution_count": 0,
      "outputs": [
        {
          "output_type": "stream",
          "text": [
            " the sum of all numbers is : 48\n"
          ],
          "name": "stdout"
        }
      ]
    },
    {
      "cell_type": "markdown",
      "metadata": {
        "id": "5ldKS39rc94k",
        "colab_type": "text"
      },
      "source": [
        "### for loop with else\n",
        "A for loop can have an optional else block as well. The else part is executed if the items in the sequence used in for loop exhausts/ for loop finishes being executed.\n",
        "\n",
        "break statement can be used to stop a for loop. In such case, the else part is ignored.\n",
        "\n",
        "Hence, a for loop's else part runs if no break occurs/ or for loop is fully executed without a break stm.\n",
        "\n",
        "Here is an example to illustrate this."
      ]
    },
    {
      "cell_type": "code",
      "metadata": {
        "id": "s98aRpsuc94l",
        "colab_type": "code",
        "outputId": "2845e6f5-f89d-4721-de3f-40dbf787d2a0",
        "colab": {}
      },
      "source": [
        "digits =[0,1,5]                      ## print takes only indexes of the list into account\n",
        "                                    ## for else combination is not  avail in any other lang\n",
        "for i in digits:\n",
        "    print (i)\n",
        "else:\n",
        "    print(\"No items left.\")"
      ],
      "execution_count": 0,
      "outputs": [
        {
          "output_type": "stream",
          "text": [
            "0\n",
            "1\n",
            "5\n",
            "No items left.\n"
          ],
          "name": "stdout"
        }
      ]
    },
    {
      "cell_type": "code",
      "metadata": {
        "id": "3cgsy8btc94q",
        "colab_type": "code",
        "outputId": "2d8b6f32-f98e-4e2e-bc27-1199fe3daca1",
        "colab": {}
      },
      "source": [
        "for i in [2,1,5]:            # values in the list does not effect the print stm\n",
        "    print(\"hello\")\n",
        "    break                    # note the break syntax\n",
        "else:\n",
        "    print(\"no elements left.\")"
      ],
      "execution_count": 0,
      "outputs": [
        {
          "output_type": "stream",
          "text": [
            "hello\n"
          ],
          "name": "stdout"
        }
      ]
    },
    {
      "cell_type": "code",
      "metadata": {
        "id": "Y7brLO-Yc94u",
        "colab_type": "code",
        "outputId": "b57919f5-4c4a-46d4-a31d-6cc5f60ab2ef",
        "colab": {}
      },
      "source": [
        "for a in [1,2,3,\"panna\",[\"dgf\",\"xyz\",\"abc\"]]:     # you can delacre the list without\n",
        "    if(type(a)) == str:\n",
        "        print(a[::-1])"
      ],
      "execution_count": 0,
      "outputs": [
        {
          "output_type": "stream",
          "text": [
            "annap\n"
          ],
          "name": "stdout"
        }
      ]
    },
    {
      "cell_type": "code",
      "metadata": {
        "id": "2nTJ0J16c940",
        "colab_type": "code",
        "outputId": "2e05b900-044c-4b40-bd71-c758d8873613",
        "colab": {}
      },
      "source": [
        "p=[]\n",
        "for a in [1,2,3,\"panna\",[\"dgf\",\"xyz\",\"abc\"]]:     # you can delacre the list without\n",
        "    if type(a) == list:                           ## find the list \n",
        "        for j in a[::-1]:                         ## store the lsit in j and reverse the objs\n",
        "            p.append(j[::-1])                     ## reverse the elements inthe obj and add it to the new list p\n",
        "p"
      ],
      "execution_count": 0,
      "outputs": [
        {
          "output_type": "execute_result",
          "data": {
            "text/plain": [
              "['cba', 'zyx', 'fgd']"
            ]
          },
          "metadata": {
            "tags": []
          },
          "execution_count": 39
        }
      ]
    },
    {
      "cell_type": "code",
      "metadata": {
        "id": "K69DmM-rc945",
        "colab_type": "code",
        "outputId": "b82cec68-b93f-4d2b-c8f4-7de186e03da6",
        "colab": {}
      },
      "source": [
        "for i in [0,1,2,3]:                ## here for,if condition, break and else stms are used\n",
        "    if i == 3:                     ## for loop will run to all indexes but will print only when i/index==3\n",
        "        print(i)                   ## each condtion stm should be ended with a :\n",
        "        break                            ## except break stm\n",
        "else:\n",
        "    print(\"No items left.\")\n",
        "print(\"here the Else stm is skipped\")"
      ],
      "execution_count": 0,
      "outputs": [
        {
          "output_type": "stream",
          "text": [
            "3\n",
            "here the Else stm is skipped\n"
          ],
          "name": "stdout"
        }
      ]
    },
    {
      "cell_type": "code",
      "metadata": {
        "id": "hqmEIp89c94-",
        "colab_type": "code",
        "outputId": "d8f7ff9c-7d43-452a-b039-c01f87a466c8",
        "colab": {}
      },
      "source": [
        "for i in [0,1,2,3]:        ##NO break        ## here for,if condition, break and else stms are used\n",
        "    if i ==3:   ##                  ## for loop will run to all indexes if there is no break stm\n",
        "        print(i)                   ## each condtion stm should be ended with a :\n",
        "                 ##                    ## except break stm\n",
        "else:\n",
        "    print(\"No items left.\")\n",
        "print(\"here the Else stm is not skipped\")"
      ],
      "execution_count": 0,
      "outputs": [
        {
          "output_type": "stream",
          "text": [
            "3\n",
            "No items left.\n",
            "here the Else stm is not skipped\n"
          ],
          "name": "stdout"
        }
      ]
    },
    {
      "cell_type": "code",
      "metadata": {
        "id": "qhjyN5yGc95D",
        "colab_type": "code",
        "outputId": "7efcd95f-4327-4301-8413-342d269530e7",
        "colab": {}
      },
      "source": [
        "for i in [0,1,2,3]:        ##NO break        ## here for,if condition and else stms are used\n",
        "    if i <=3:   ##               ## for loop will run to all indexes if there is no break stm\n",
        "        print(i)                   ## each condtion stm should be ended with a :\n",
        "                  ##                   ## except break stm\n",
        "else:\n",
        "    print(\"No items left.\")\n",
        "print(\"here the Else stm is not skipped\")"
      ],
      "execution_count": 0,
      "outputs": [
        {
          "output_type": "stream",
          "text": [
            "0\n",
            "1\n",
            "2\n",
            "3\n",
            "No items left.\n",
            "here the Else stm is not skipped\n"
          ],
          "name": "stdout"
        }
      ]
    },
    {
      "cell_type": "markdown",
      "metadata": {
        "id": "Vi8WT_5Ec95M",
        "colab_type": "text"
      },
      "source": [
        "## While loop\n",
        "\n",
        "The while loop in Python is used to iterate over a block of code as long as the test expression (condition) is true.\n",
        "\n",
        "We generally use this loop when we don't know beforehand, the number of times to iterate.\n",
        "\n",
        "In while loop, test expression is checked first. The body of the loop is entered only if the test_expression evaluates to True. After one iteration, the test expression is checked again. This process continues until the test_expression evaluates to False.\n",
        "\n",
        "In Python, the body of the while loop is determined through indentation.\n",
        "\n",
        "Body starts with indentation and the first unindented line marks the end.\n",
        "\n",
        "Python interprets any non-zero value as True. None and 0 are interpreted as False.\n",
        "\n"
      ]
    },
    {
      "cell_type": "code",
      "metadata": {
        "id": "X8cV3wwgc95N",
        "colab_type": "code",
        "outputId": "aec6d32e-50a6-43be-c781-358758dfd197",
        "colab": {}
      },
      "source": [
        "# Program to add natural\n",
        "# numbers upto \n",
        "# sum = 1+2+3+...+n\n",
        "\n",
        "# To take input from the user,\n",
        "# n = int(input(\"Enter n: \"))\n",
        "\n",
        "n = 10\n",
        "\n",
        "# initialize sum and counter\n",
        "sum = 0\n",
        "i = 1\n",
        "\n",
        "while i <= n:\n",
        "    sum = sum + i\n",
        "    i = i+1    # update counter\n",
        "\n",
        "# print the sum\n",
        "print(\"The sum is\", sum)"
      ],
      "execution_count": 0,
      "outputs": [
        {
          "output_type": "stream",
          "text": [
            "The sum is 55\n"
          ],
          "name": "stdout"
        }
      ]
    },
    {
      "cell_type": "markdown",
      "metadata": {
        "id": "6yz6lRuVc95R",
        "colab_type": "text"
      },
      "source": [
        "## The range() function\n",
        "We can generate a sequence of numbers using range() function. range(10) will generate numbers from 0 to 9 (10 numbers).\n",
        "\n",
        "We can also define the start, stop and step size as range(start,stop,step size). step size defaults to 1 if not provided.\n",
        "\n",
        "This function does not store all the values in memory, it would be inefficient. So it remembers the start, stop, step size and generates the next number on the go.\n",
        "\n",
        "To force this function to output all the items, we can use the function list().\n",
        "\n",
        "The following example will clarify this."
      ]
    },
    {
      "cell_type": "code",
      "metadata": {
        "id": "WnCPwbxfc95S",
        "colab_type": "code",
        "outputId": "ec0106cc-2ffd-4bb1-ba59-67b09d34671a",
        "colab": {}
      },
      "source": [
        "range(6)    ##  range it is a generator funtion it will help to create a data set"
      ],
      "execution_count": 0,
      "outputs": [
        {
          "output_type": "execute_result",
          "data": {
            "text/plain": [
              "range(0, 6)"
            ]
          },
          "metadata": {
            "tags": []
          },
          "execution_count": 89
        }
      ]
    },
    {
      "cell_type": "code",
      "metadata": {
        "id": "WDIjNasBc95W",
        "colab_type": "code",
        "outputId": "fe8b6bb1-765f-4f1d-cd21-535de95d0f9c",
        "colab": {}
      },
      "source": [
        "list(range(10))"
      ],
      "execution_count": 0,
      "outputs": [
        {
          "output_type": "execute_result",
          "data": {
            "text/plain": [
              "[0, 1, 2, 3, 4, 5, 6, 7, 8, 9]"
            ]
          },
          "metadata": {
            "tags": []
          },
          "execution_count": 90
        }
      ]
    },
    {
      "cell_type": "code",
      "metadata": {
        "id": "r0tQw7_1c95h",
        "colab_type": "code",
        "outputId": "d2a21c25-c975-462d-baa2-ba378c02ebbf",
        "colab": {}
      },
      "source": [
        "list(range(0,6))                ## syntax range (start index, end -1 syntax,step)"
      ],
      "execution_count": 0,
      "outputs": [
        {
          "output_type": "execute_result",
          "data": {
            "text/plain": [
              "[0, 1, 2, 3, 4, 5]"
            ]
          },
          "metadata": {
            "tags": []
          },
          "execution_count": 75
        }
      ]
    },
    {
      "cell_type": "code",
      "metadata": {
        "id": "yBvjGD9zc95q",
        "colab_type": "code",
        "outputId": "36e0593c-7a77-41df-c0df-d69c4bf6683a",
        "colab": {}
      },
      "source": [
        "print(list(range(8, 2,-2)))"
      ],
      "execution_count": 0,
      "outputs": [
        {
          "output_type": "stream",
          "text": [
            "[8, 6, 4]\n"
          ],
          "name": "stdout"
        }
      ]
    },
    {
      "cell_type": "code",
      "metadata": {
        "id": "R3DpmFM2c952",
        "colab_type": "code",
        "outputId": "815ec1ec-5521-4c3e-a013-dadb06be884a",
        "colab": {}
      },
      "source": [
        "print(list(range(2, 20, 5)))"
      ],
      "execution_count": 0,
      "outputs": [
        {
          "output_type": "stream",
          "text": [
            "[2, 7, 12, 17]\n"
          ],
          "name": "stdout"
        }
      ]
    },
    {
      "cell_type": "code",
      "metadata": {
        "id": "k1f___5Tc956",
        "colab_type": "code",
        "outputId": "d5aab184-ff7b-4a58-c8e5-d4faecce0730",
        "colab": {}
      },
      "source": [
        "list(range(len(genre)-1,0,-2))"
      ],
      "execution_count": 0,
      "outputs": [
        {
          "output_type": "execute_result",
          "data": {
            "text/plain": [
              "[3, 1]"
            ]
          },
          "metadata": {
            "tags": []
          },
          "execution_count": 96
        }
      ]
    },
    {
      "cell_type": "code",
      "metadata": {
        "id": "4XPK6ccpc95_",
        "colab_type": "code",
        "outputId": "42d4652e-0807-4064-9db9-339b65ed72bd",
        "colab": {}
      },
      "source": [
        "l=[\"panna\",\"appa\",\"abc\",\"xyz\",3,56,86]\n",
        " for in range(0,len(l),2):\n",
        "    print(l[i])"
      ],
      "execution_count": 0,
      "outputs": [
        {
          "output_type": "error",
          "ename": "IndentationError",
          "evalue": "unexpected indent (<ipython-input-49-26d52b9651b0>, line 2)",
          "traceback": [
            "\u001b[1;36m  File \u001b[1;32m\"<ipython-input-49-26d52b9651b0>\"\u001b[1;36m, line \u001b[1;32m2\u001b[0m\n\u001b[1;33m    for in range(0,len(l),2):\u001b[0m\n\u001b[1;37m    ^\u001b[0m\n\u001b[1;31mIndentationError\u001b[0m\u001b[1;31m:\u001b[0m unexpected indent\n"
          ]
        }
      ]
    },
    {
      "cell_type": "code",
      "metadata": {
        "id": "f8nXumwXc96D",
        "colab_type": "code",
        "outputId": "5812bc85-c3c1-4145-8d77-86bb8663f503",
        "colab": {}
      },
      "source": [
        "list(range(0,len(1),2))\n"
      ],
      "execution_count": 0,
      "outputs": [
        {
          "output_type": "error",
          "ename": "TypeError",
          "evalue": "object of type 'int' has no len()",
          "traceback": [
            "\u001b[1;31m---------------------------------------------------------------------------\u001b[0m",
            "\u001b[1;31mTypeError\u001b[0m                                 Traceback (most recent call last)",
            "\u001b[1;32m<ipython-input-45-666cc3f199d2>\u001b[0m in \u001b[0;36m<module>\u001b[1;34m\u001b[0m\n\u001b[1;32m----> 1\u001b[1;33m \u001b[0mlist\u001b[0m\u001b[1;33m(\u001b[0m\u001b[0mrange\u001b[0m\u001b[1;33m(\u001b[0m\u001b[1;36m0\u001b[0m\u001b[1;33m,\u001b[0m\u001b[0mlen\u001b[0m\u001b[1;33m(\u001b[0m\u001b[1;36m1\u001b[0m\u001b[1;33m)\u001b[0m\u001b[1;33m,\u001b[0m\u001b[1;36m2\u001b[0m\u001b[1;33m)\u001b[0m\u001b[1;33m)\u001b[0m\u001b[1;33m\u001b[0m\u001b[1;33m\u001b[0m\u001b[0m\n\u001b[0m",
            "\u001b[1;31mTypeError\u001b[0m: object of type 'int' has no len()"
          ]
        }
      ]
    },
    {
      "cell_type": "markdown",
      "metadata": {
        "id": "GVsJMYZgc96J",
        "colab_type": "text"
      },
      "source": [
        "We can use the range() function in for loops to iterate through a sequence of numbers. It can be combined with the len() function to iterate though a sequence using indexing. Here is an example."
      ]
    },
    {
      "cell_type": "code",
      "metadata": {
        "id": "m1oWNoR-c96J",
        "colab_type": "code",
        "outputId": "53e781cc-12c9-4d3e-c4eb-56b21ebfafc8",
        "colab": {}
      },
      "source": [
        "# Program to iterate through a list using indexing\n",
        "\n",
        "genre = ['pop', 'rock', 'jazz','sapna']\n",
        "\n",
        "# iterate over the list using index\n",
        "for i in range(len(genre)-1,0,-2):\n",
        "    print(\"I like\", genre[i])"
      ],
      "execution_count": 0,
      "outputs": [
        {
          "output_type": "stream",
          "text": [
            "I like sapna\n",
            "I like rock\n"
          ],
          "name": "stdout"
        }
      ]
    },
    {
      "cell_type": "markdown",
      "metadata": {
        "id": "rjdrOnUWc96O",
        "colab_type": "text"
      },
      "source": [
        "## break and continue statement\n",
        "\n",
        "In Python, break and continue statements can alter the flow of a normal loop.\n",
        "\n",
        "Loops iterate over a block of code until test expression is false, but sometimes we wish to terminate the current iteration or even the whole loop without cheking test expression.\n",
        "\n",
        "The break and continue statements are used in these cases.\n",
        "\n",
        "### break\n",
        "The break statement terminates the loop containing it. Control of the program flows to the statement immediately after the body of the loop.\n",
        "\n",
        "If break statement is inside a nested loop (loop inside another loop), break will terminate the innermost loop.\n",
        "\n",
        "\n",
        "\n",
        "<img src=\"Images/flowchart-break-statement.jpg\">"
      ]
    },
    {
      "cell_type": "code",
      "metadata": {
        "id": "1DbKMX2vc96P",
        "colab_type": "code",
        "outputId": "0f1a0f05-7bb8-4f7b-c42a-1ab42c3c1b9f",
        "colab": {}
      },
      "source": [
        "# Use of break statement inside loop\n",
        "\n",
        "for val in \"string\":\n",
        "    if val == \"i\":\n",
        "        break\n",
        "    print(val)\n",
        "\n",
        "print(\"The end\")"
      ],
      "execution_count": 0,
      "outputs": [
        {
          "output_type": "stream",
          "text": [
            "s\n",
            "t\n",
            "r\n",
            "The end\n"
          ],
          "name": "stdout"
        }
      ]
    },
    {
      "cell_type": "markdown",
      "metadata": {
        "id": "atDLLpU9c96S",
        "colab_type": "text"
      },
      "source": [
        "In this program, we iterate through the \"string\" sequence. We check if the letter is \"i\", upon which we break from the loop. Hence, we see in our output that all the letters up till \"i\" gets printed. After that, the loop terminates."
      ]
    },
    {
      "cell_type": "markdown",
      "metadata": {
        "id": "38l_rwKac96T",
        "colab_type": "text"
      },
      "source": [
        "### continue\n",
        "The continue statement is used to skip the rest of the code inside a loop for the current iteration only. Loop does not terminate but continues on with the next iteration.\n",
        "\n",
        "<img src=\"Images/continue-statement-flowchart.jpg\">"
      ]
    },
    {
      "cell_type": "code",
      "metadata": {
        "id": "e-oyB_tyc96U",
        "colab_type": "code",
        "outputId": "4c999835-2104-4870-c48b-d0838b12bd78",
        "colab": {}
      },
      "source": [
        "# Program to show the use of continue statement inside loops\n",
        "\n",
        "for val in \"string\":\n",
        "    if val == \"i\":\n",
        "        continue\n",
        "    print(val)\n",
        "\n",
        "print(\"The end\")"
      ],
      "execution_count": 0,
      "outputs": [
        {
          "output_type": "stream",
          "text": [
            "s\n",
            "t\n",
            "r\n",
            "n\n",
            "g\n",
            "The end\n"
          ],
          "name": "stdout"
        }
      ]
    },
    {
      "cell_type": "markdown",
      "metadata": {
        "id": "9gqr0IdBc96Z",
        "colab_type": "text"
      },
      "source": [
        "This program is same as the above example except the break statement has been replaced with continue.\n",
        "\n",
        "We continue with the loop, if the string is \"i\", not executing the rest of the block. Hence, we see in our output that all the letters except \"i\" gets printed."
      ]
    },
    {
      "cell_type": "markdown",
      "metadata": {
        "collapsed": true,
        "id": "KuaZmBtOc96a",
        "colab_type": "text"
      },
      "source": [
        "my own work.........."
      ]
    },
    {
      "cell_type": "code",
      "metadata": {
        "id": "-3qz6eOxc96b",
        "colab_type": "code",
        "outputId": "a6f097af-59ea-48d0-b9af-edab69acb9fc",
        "colab": {}
      },
      "source": [
        "# Program to take the input string from the user.\n",
        "\n",
        "name = input(\"What is your name? \")\n",
        "type(name)"
      ],
      "execution_count": 0,
      "outputs": [
        {
          "output_type": "stream",
          "text": [
            "What is your name? satyam\n"
          ],
          "name": "stdout"
        },
        {
          "output_type": "execute_result",
          "data": {
            "text/plain": [
              "str"
            ]
          },
          "metadata": {
            "tags": []
          },
          "execution_count": 2
        }
      ]
    },
    {
      "cell_type": "code",
      "metadata": {
        "id": "DfVpUuntc96f",
        "colab_type": "code",
        "outputId": "1b11ffca-dc12-45fe-c47b-0c334504b87f",
        "colab": {}
      },
      "source": [
        "# Program to read integers from user\n",
        "\n",
        "age = input(\"What is your age? \")\n",
        "print (\"Your age is: \", age)\n",
        "type(age)"
      ],
      "execution_count": 0,
      "outputs": [
        {
          "output_type": "stream",
          "text": [
            "What is your age? 25\n",
            "Your age is:  25\n"
          ],
          "name": "stdout"
        },
        {
          "output_type": "execute_result",
          "data": {
            "text/plain": [
              "str"
            ]
          },
          "metadata": {
            "tags": []
          },
          "execution_count": 4
        }
      ]
    },
    {
      "cell_type": "code",
      "metadata": {
        "id": "kUik68Z_c96n",
        "colab_type": "code",
        "outputId": "6e264349-d7d8-4547-bfce-35d3a78096e0",
        "colab": {}
      },
      "source": [
        "# Let's have one more example\n",
        "\n",
        "name = input(\"What is your name? \")\n",
        "print (\" It was nice talking you \" + name + \"!\")\n",
        "age = input(\"Enter your age? \")\n",
        "print(\"Hey, you are already \" + age + \" years old, \" + name + \"!\")\n"
      ],
      "execution_count": 0,
      "outputs": [
        {
          "output_type": "stream",
          "text": [
            "What is your name? Onkar\n",
            " It was nice talking you Onkar!\n",
            "Enter your age? 25\n",
            "Hey, you are already 25 years old, Onkar!\n"
          ],
          "name": "stdout"
        }
      ]
    },
    {
      "cell_type": "code",
      "metadata": {
        "collapsed": true,
        "id": "CjdicMCZc96t",
        "colab_type": "code",
        "colab": {}
      },
      "source": [
        ""
      ],
      "execution_count": 0,
      "outputs": []
    }
  ]
}